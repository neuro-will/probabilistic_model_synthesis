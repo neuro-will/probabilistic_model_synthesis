{
 "cells": [
  {
   "cell_type": "code",
   "execution_count": 1,
   "metadata": {},
   "outputs": [],
   "source": [
    "import itertools\n",
    "\n",
    "import matplotlib.pyplot as plt\n",
    "import numpy as np\n",
    "import torch\n",
    "\n",
    "from janelia_core.ml.torch_distributions import CondGaussianDistribution\n",
    "from janelia_core.ml.extra_torch_modules import ConstantBoundedFcn\n",
    "from janelia_core.ml.extra_torch_modules import ConstantRealFcn\n",
    "from janelia_core.visualization.matrix_visualization import cmp_n_mats\n",
    "\n",
    "from probabilistic_model_synthesis.distributions import SampleLatentsGaussianVariationalPosterior"
   ]
  },
  {
   "cell_type": "code",
   "execution_count": 2,
   "metadata": {},
   "outputs": [],
   "source": [
    "# ======================================================================================================================\n",
    "# Parameters for the simulation\n",
    "# ======================================================================================================================\n",
    "\n",
    "# Mean and standard deviation of the true prior over regression weights.  (These\n",
    "# parameters implicitly define the dimensionality of the x-data).\n",
    "\n",
    "true_beta_mn = torch.tensor([0.0, 1.0, 2.0, 3.0, 4.0], dtype=torch.float32)\n",
    "true_beta_std = 1*torch.tensor([1.0, 1.0, 1.0, 1.0, 1.0], dtype=torch.float32)\n",
    "\n",
    "# Standard deviation of noise for observations\n",
    "obs_std = 1\n",
    "\n",
    "# Number of example systems we generate\n",
    "n_ex_systems = 100\n",
    "\n",
    "# Number of samples we observe from each example system\n",
    "n_smps_per_system = 1\n",
    "\n",
    "# Number of iterations we run gradient descent for\n",
    "n_train_its = 1500\n"
   ]
  },
  {
   "cell_type": "code",
   "execution_count": 3,
   "metadata": {},
   "outputs": [],
   "source": [
    "# ======================================================================================================================\n",
    "# Generate data\n",
    "# ======================================================================================================================\n",
    "\n",
    "# Generate regression weights for each example system\n",
    "x_dim = len(true_beta_mn)\n",
    "true_ex_system_weights = true_beta_mn + true_beta_std*torch.randn(n_ex_systems, x_dim)\n",
    "\n",
    "#  Generate x and y data for each example system\n",
    "data = [None]*n_ex_systems\n",
    "for s_i, beta_i in enumerate(true_ex_system_weights):\n",
    "    x_i = torch.randn(n_smps_per_system, x_dim)\n",
    "    expected_output = torch.sum(x_i*beta_i, dim=1)\n",
    "    y_i = expected_output + obs_std*torch.randn(n_smps_per_system)\n",
    "    data[s_i] = (x_i, y_i)\n"
   ]
  },
  {
   "cell_type": "code",
   "execution_count": 4,
   "metadata": {},
   "outputs": [],
   "source": [
    "# ======================================================================================================================\n",
    "# Setup everything for synthesis\n",
    "# ======================================================================================================================\n",
    "\n",
    "# Initialize CPD - the mean and standard deviation functions are just constant\n",
    "# since we have no properties to condition on\n",
    "cpd = CondGaussianDistribution(mn_f=ConstantRealFcn(np.ones([x_dim])),\n",
    "                               std_f=ConstantBoundedFcn(.01*np.ones([x_dim]),\n",
    "                                                        10*np.ones([x_dim]),\n",
    "                                                        3*np.ones([x_dim])))\n",
    "\n",
    "# Initialize approximate posteriors for each example system\n",
    "approx_posts = [SampleLatentsGaussianVariationalPosterior(x_dim, 1) for _ in range(n_ex_systems)]\n"
   ]
  },
  {
   "cell_type": "code",
   "execution_count": 5,
   "metadata": {},
   "outputs": [
    {
     "name": "stdout",
     "output_type": "stream",
     "text": [
      "It: 0, ELBO: -2363.326416015625\n",
      "It: 100, ELBO: -336.5582580566406\n",
      "It: 200, ELBO: -324.5439758300781\n",
      "It: 300, ELBO: -446.1349182128906\n",
      "It: 400, ELBO: -329.6919860839844\n",
      "It: 500, ELBO: -393.2387390136719\n",
      "It: 600, ELBO: -251.88150024414062\n",
      "It: 700, ELBO: -243.50091552734375\n",
      "It: 800, ELBO: -250.56686401367188\n",
      "It: 900, ELBO: -235.27903747558594\n",
      "It: 1000, ELBO: -247.50582885742188\n",
      "It: 1100, ELBO: -237.8893585205078\n",
      "It: 1200, ELBO: -235.58811950683594\n",
      "It: 1300, ELBO: -236.4176025390625\n",
      "It: 1400, ELBO: -239.59945678710938\n"
     ]
    }
   ],
   "source": [
    "# ======================================================================================================================\n",
    "# Perform synthesis\n",
    "# ======================================================================================================================\n",
    "\n",
    "# Get all parameters\n",
    "params = list(cpd.parameters()) + list(itertools.chain(*[list(post.parameters()) for post in approx_posts]))\n",
    "\n",
    "# Setup optimizer\n",
    "optimizer = torch.optim.Adam(params=params, lr=.1)\n",
    "scheduler = torch.optim.lr_scheduler.MultiStepLR(optimizer, milestones=[500], gamma=.1)\n",
    "# Constant for calculating log-likelihoods\n",
    "constant = -.5*n_smps_per_system*np.log(2*np.pi*(obs_std**2))\n",
    "\n",
    "for i in range(n_train_its):\n",
    "\n",
    "    optimizer.zero_grad()\n",
    "\n",
    "    # Sample from approximate posteriors over regression weights for each example system\n",
    "    post_mn_smps = [post.sample([0]) for post in approx_posts]\n",
    "\n",
    "    # Calculate log-likelihood of observed data conditioned on sampled weights for each example system\n",
    "    elbo = 0\n",
    "    for data_i, mn_i in zip(data, post_mn_smps):\n",
    "        x_i, y_i = data_i\n",
    "        pred_mn_i = torch.sum(x_i*mn_i, dim=1)\n",
    "        ll_i = constant - .5 * torch.sum(((y_i - pred_mn_i) / obs_std) ** 2)\n",
    "        elbo += ll_i\n",
    "\n",
    "    # Calculate KL divergence between each approximate posterior and cpd\n",
    "    cpd_mn = cpd(torch.zeros(1)).squeeze()\n",
    "    cpd_var = cpd.std_f(torch.zeros(1)).squeeze()**2\n",
    "    for post in approx_posts:\n",
    "        elbo -= post.kl_btw_diagonal_normal([0], cpd_mn, cpd_var)\n",
    "\n",
    "    neg_elbo = -1 * elbo\n",
    "    neg_elbo.backward()\n",
    "    optimizer.step()\n",
    "\n",
    "    if i % 100 == 0:\n",
    "        print('It: ' + str(i) + ', ELBO: ' + str(elbo.item()))\n",
    "\n",
    "    scheduler.step()\n"
   ]
  },
  {
   "cell_type": "code",
   "execution_count": 6,
   "metadata": {},
   "outputs": [
    {
     "data": {
      "image/png": "[encoded data removed]",
      "text/plain": [
       "<Figure size 432x288 with 4 Axes>"
      ]
     },
     "metadata": {
      "needs_background": "light"
     },
     "output_type": "display_data"
    },
    {
     "data": {
      "image/png": "[encoded data removed]",
      "text/plain": [
       "<Figure size 432x288 with 2 Axes>"
      ]
     },
     "metadata": {
      "needs_background": "light"
     },
     "output_type": "display_data"
    }
   ],
   "source": [
    "# ======================================================================================================================\n",
    "# Examine results\n",
    "# ======================================================================================================================\n",
    "\n",
    "# Examine posterior means over regression weights compared to true regression weights\n",
    "est_ex_system_weights = np.stack([post.mns.detach().squeeze().numpy() for post in approx_posts])\n",
    "\n",
    "plt.figure()\n",
    "cmp_n_mats([true_ex_system_weights, est_ex_system_weights], show_colorbars=True,\n",
    "           titles=['True Reg Weights', 'Est Reg Weights'])\n",
    "plt.draw()\n",
    "\n",
    "# Examine true mean and standard deviations of prior compared to those of the CPD\n",
    "cpd_mn = cpd(torch.ones(1)).detach().squeeze().numpy()\n",
    "cpd_std = cpd.std_f(torch.ones(1)).detach().squeeze().numpy()\n",
    "\n",
    "plt.figure()\n",
    "plt.subplot(1,2,1)\n",
    "plt.plot(true_beta_mn, cpd_mn, 'ro')\n",
    "plt.xlabel('True Mean')\n",
    "plt.ylabel('CPD Mean')\n",
    "\n",
    "plt.subplot(1,2,2)\n",
    "plt.plot(true_beta_std, cpd_std, 'ro')\n",
    "plt.xlabel('True Std')\n",
    "plt.ylabel('CPD Std')\n",
    "\n",
    "plt.show()"
   ]
  },
  {
   "cell_type": "code",
   "execution_count": null,
   "metadata": {},
   "outputs": [],
   "source": []
  }
 ],
 "metadata": {
  "kernelspec": {
   "display_name": "Python 3",
   "language": "python",
   "name": "python3"
  },
  "language_info": {
   "codemirror_mode": {
    "name": "ipython",
    "version": 3
   },
   "file_extension": ".py",
   "mimetype": "text/x-python",
   "name": "python",
   "nbconvert_exporter": "python",
   "pygments_lexer": "ipython3",
   "version": "3.8.8"
  }
 },
 "nbformat": 4,
 "nbformat_minor": 2
}
