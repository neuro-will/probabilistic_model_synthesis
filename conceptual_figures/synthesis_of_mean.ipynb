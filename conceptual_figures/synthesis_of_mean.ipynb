{
 "cells": [
  {
   "cell_type": "markdown",
   "metadata": {},
   "source": [
    "Description to go here\n",
    "\n",
    "Mention that we assume a known observation noise"
   ]
  },
  {
   "cell_type": "code",
   "execution_count": 1,
   "metadata": {},
   "outputs": [],
   "source": [
    "import itertools\n",
    "import matplotlib.pyplot as plt\n",
    "import numpy as np\n",
    "import torch\n",
    "\n",
    "from janelia_core.ml.torch_distributions import CondGaussianDistribution\n",
    "from janelia_core.ml.extra_torch_modules import ConstantBoundedFcn\n",
    "from janelia_core.ml.extra_torch_modules import ConstantRealFcn\n"
   ]
  },
  {
   "cell_type": "markdown",
   "metadata": {},
   "source": [
    "## Parameters go here"
   ]
  },
  {
   "cell_type": "code",
   "execution_count": 2,
   "metadata": {},
   "outputs": [],
   "source": [
    "# Mean and standard deviation of the true prior\n",
    "mn_0 = 3\n",
    "std_0 = 1\n",
    "\n",
    "# Standard deviation of noise for observations \n",
    "obs_std = 1\n",
    "\n",
    "# Number of example systems we generate\n",
    "n_ex_systems = 1000\n",
    "\n",
    "# Number of samples we observe from each example system\n",
    "n_smps_per_system = 1\n",
    "\n",
    "# Number of iterations we run gradient descent for\n",
    "n_train_its = 1000 "
   ]
  },
  {
   "cell_type": "markdown",
   "metadata": {},
   "source": [
    "## Generate data"
   ]
  },
  {
   "cell_type": "code",
   "execution_count": 3,
   "metadata": {},
   "outputs": [],
   "source": [
    "# Generate means for each example system\n",
    "true_system_mns = mn_0 + std_0*torch.randn(n_ex_systems)\n",
    "\n",
    "# Generate samples for each example system\n",
    "samples = [torch.randn(n_smps_per_system)*obs_std + mn_i for mn_i in true_system_mns]"
   ]
  },
  {
   "cell_type": "markdown",
   "metadata": {},
   "source": [
    "## Setup everything for synthesis"
   ]
  },
  {
   "cell_type": "code",
   "execution_count": 4,
   "metadata": {},
   "outputs": [],
   "source": [
    "# Initialize CPD - the mean and standard deviation functions are just constant \n",
    "# since we have no properties to condition on\n",
    "cpd = CondGaussianDistribution(mn_f=ConstantRealFcn(np.ones([1])), \n",
    "                               std_f=ConstantBoundedFcn(.0001*np.ones([1]), \n",
    "                                                        10*np.ones([1]), \n",
    "                                                        3*np.ones([1])))\n",
    "\n",
    "# Initialize approximate posteriors for each example system\n",
    "approx_posts = [CondGaussianDistribution(mn_f=ConstantRealFcn(np.ones([1])), \n",
    "                               std_f=ConstantBoundedFcn(.0001*np.ones([1]), \n",
    "                                                        10*np.ones([1]), \n",
    "                                                        np.ones([1])))\n",
    "                for _ in range(n_ex_systems)]"
   ]
  },
  {
   "cell_type": "markdown",
   "metadata": {},
   "source": [
    "## Perform synthesis "
   ]
  },
  {
   "cell_type": "code",
   "execution_count": 5,
   "metadata": {},
   "outputs": [],
   "source": [
    "# Get all parameters\n",
    "params = list(cpd.parameters()) + list(itertools.chain(*[list(post.parameters()) for post in approx_posts]))\n",
    "\n",
    "# Setup optimizer\n",
    "optimizer = torch.optim.Adam(params=params, lr=.01)"
   ]
  },
  {
   "cell_type": "code",
   "execution_count": 6,
   "metadata": {},
   "outputs": [
    {
     "name": "stdout",
     "output_type": "stream",
     "text": [
      "It: 0, ELBO: -5045.64306640625\n",
      "It: 100, ELBO: -2689.623046875\n",
      "It: 200, ELBO: -2031.365234375\n",
      "It: 300, ELBO: -1843.159423828125\n",
      "It: 400, ELBO: -1759.1248779296875\n",
      "It: 500, ELBO: -1788.4622802734375\n",
      "It: 600, ELBO: -1761.5274658203125\n",
      "It: 700, ELBO: -1747.2664794921875\n",
      "It: 800, ELBO: -1767.49267578125\n",
      "It: 900, ELBO: -1744.4727783203125\n"
     ]
    }
   ],
   "source": [
    "# Constant for calculating log-likelihoods\n",
    "constant = -.5*n_smps_per_system*np.log(2*np.pi*(obs_std**2))\n",
    "\n",
    "for i in range(n_train_its):\n",
    "    \n",
    "    optimizer.zero_grad()\n",
    "    \n",
    "    # Sample from approximate posteriors\n",
    "    post_mn_smps = [post.sample(torch.zeros(1)) for post in approx_posts]\n",
    "     \n",
    "    # Calcualte log-likelihood of observed data conditioned on sampled mean\n",
    "    elbo = 0\n",
    "    for smps_i, mn_i in zip(samples, post_mn_smps):\n",
    "        ll_i =  constant -.5*torch.sum(((smps_i - mn_i)/obs_std)**2)\n",
    "        elbo += ll_i\n",
    "        \n",
    "    # Calcualte KL divergence between each approximate posterior and cpd\n",
    "    for post in approx_posts:\n",
    "        elbo -= post.kl(d_2=cpd, x=torch.ones(1))\n",
    "        \n",
    "    neg_elbo = -1*elbo\n",
    "    neg_elbo.backward()\n",
    "    optimizer.step()\n",
    "    \n",
    "    if i % 100 == 0:\n",
    "        print('It: ' + str(i) + ', ELBO: ' + str(elbo.item()))\n",
    "    "
   ]
  },
  {
   "cell_type": "code",
   "execution_count": 7,
   "metadata": {},
   "outputs": [],
   "source": [
    "est_post_mns = [post(torch.ones(1)).item() for post in approx_posts]"
   ]
  },
  {
   "cell_type": "code",
   "execution_count": 8,
   "metadata": {},
   "outputs": [
    {
     "data": {
      "text/plain": [
       "Text(0, 0.5, 'Means of approx posteriors')"
      ]
     },
     "execution_count": 8,
     "metadata": {},
     "output_type": "execute_result"
    },
    {
     "data": {
      "image/png": "[encoded data removed]",
      "text/plain": [
       "<Figure size 432x288 with 1 Axes>"
      ]
     },
     "metadata": {
      "needs_background": "light"
     },
     "output_type": "display_data"
    }
   ],
   "source": [
    "plt.plot(true_system_mns, est_post_mns, 'r.')\n",
    "plt.plot([2, 4], [2, 4], 'k--')\n",
    "plt.axis('equal')\n",
    "plt.xlabel('True system means')\n",
    "plt.ylabel('Means of approx posteriors')\n"
   ]
  },
  {
   "cell_type": "code",
   "execution_count": 9,
   "metadata": {},
   "outputs": [
    {
     "name": "stdout",
     "output_type": "stream",
     "text": [
      "True prior mean vs CPD mean: 3 | 2.9381625652313232\n",
      "True prior mean vs CPD mean: 1 | 0.9056249856948853\n"
     ]
    }
   ],
   "source": [
    "cpd_mn = cpd(torch.ones(1)).item()\n",
    "cpd_std = cpd.std_f(torch.ones(1)).item()\n",
    "\n",
    "print('True prior mean vs CPD mean: ' + str(mn_0) + ' | ' + str(cpd_mn))\n",
    "print('True prior mean vs CPD mean: ' + str(std_0) + ' | ' + str(cpd_std))"
   ]
  },
  {
   "cell_type": "code",
   "execution_count": null,
   "metadata": {},
   "outputs": [],
   "source": []
  },
  {
   "cell_type": "code",
   "execution_count": null,
   "metadata": {},
   "outputs": [],
   "source": []
  }
 ],
 "metadata": {
  "kernelspec": {
   "display_name": "Python 3",
   "language": "python",
   "name": "python3"
  },
  "language_info": {
   "codemirror_mode": {
    "name": "ipython",
    "version": 3
   },
   "file_extension": ".py",
   "mimetype": "text/x-python",
   "name": "python",
   "nbconvert_exporter": "python",
   "pygments_lexer": "ipython3",
   "version": "3.8.5"
  }
 },
 "nbformat": 4,
 "nbformat_minor": 4
}
