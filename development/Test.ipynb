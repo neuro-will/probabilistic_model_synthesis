{
 "cells": [
  {
   "cell_type": "markdown",
   "id": "08ed5c40",
   "metadata": {},
   "source": [
    "In this notebook, we generate data in a two step process: \n",
    "\n",
    "1) We generate cluster centers from a Gaussian distribution with a fixed mean and standard deviation\n",
    "\n",
    "2) For each cluster, we generate observed values "
   ]
  },
  {
   "cell_type": "code",
   "execution_count": 1,
   "id": "d17e1f87",
   "metadata": {},
   "outputs": [],
   "source": [
    "%load_ext autoreload\n",
    "%autoreload 2"
   ]
  },
  {
   "cell_type": "code",
   "execution_count": 2,
   "id": "98081934",
   "metadata": {},
   "outputs": [],
   "source": [
    "import numpy as np\n",
    "import torch"
   ]
  },
  {
   "cell_type": "markdown",
   "id": "38855f38",
   "metadata": {},
   "source": [
    "## Parameters go here"
   ]
  },
  {
   "cell_type": "code",
   "execution_count": 37,
   "id": "8cae09cb",
   "metadata": {},
   "outputs": [],
   "source": [
    "prior_mn = 20.0\n",
    "prior_std = 5\n",
    "\n",
    "cluster_stds = [1.0]*500 # Number of entries here determine number of clusters\n",
    "n_obs_per_cluster = 10"
   ]
  },
  {
   "cell_type": "markdown",
   "id": "55996450",
   "metadata": {},
   "source": [
    "## Generate the data"
   ]
  },
  {
   "cell_type": "code",
   "execution_count": 38,
   "id": "b7c8df37",
   "metadata": {},
   "outputs": [],
   "source": [
    "n_clusters = len(cluster_stds)\n",
    "ctrs = np.random.randn(n_clusters)*prior_std + prior_mn"
   ]
  },
  {
   "cell_type": "code",
   "execution_count": 39,
   "id": "b005d2f2",
   "metadata": {},
   "outputs": [],
   "source": [
    "data = [torch.tensor(np.random.randn(n_obs_per_cluster)*std_c + mn_c) for std_c, mn_c in zip(cluster_stds, ctrs)]"
   ]
  },
  {
   "cell_type": "markdown",
   "id": "1cd7c696",
   "metadata": {},
   "source": [
    "## Fit prior describing the data"
   ]
  },
  {
   "cell_type": "code",
   "execution_count": 78,
   "id": "8b4ae154",
   "metadata": {},
   "outputs": [],
   "source": [
    "fit_ctr = torch.tensor(30.0, requires_grad=True)\n",
    "fit_std = torch.tensor(1.0, requires_grad=True)"
   ]
  },
  {
   "cell_type": "code",
   "execution_count": 79,
   "id": "b1ece382",
   "metadata": {},
   "outputs": [],
   "source": [
    "optimizer = torch.optim.Adam(params=[fit_ctr, fit_std], lr=.1)"
   ]
  },
  {
   "cell_type": "code",
   "execution_count": null,
   "id": "f2f2f45e",
   "metadata": {
    "scrolled": false
   },
   "outputs": [
    {
     "name": "stdout",
     "output_type": "stream",
     "text": [
      "0: 7.859594054091942\n",
      "fit_ctr: 23.801092\n",
      "fit_std: 5.512872\n",
      "1: 7.870756718831328\n",
      "fit_ctr: 23.796787\n",
      "fit_std: 5.514128\n",
      "2: 7.457318609142766\n",
      "fit_ctr: 23.792242\n",
      "fit_std: 5.515487\n",
      "3: 7.559388767504556\n",
      "fit_ctr: 23.787703\n",
      "fit_std: 5.516854\n",
      "4: 7.520243699507743\n",
      "fit_ctr: 23.784636\n",
      "fit_std: 5.517546\n",
      "5: 7.6699290200973085\n",
      "fit_ctr: 23.781336\n",
      "fit_std: 5.518342\n",
      "6: 7.799901724155332\n",
      "fit_ctr: 23.777906\n",
      "fit_std: 5.519206\n",
      "7: 7.368849417752132\n",
      "fit_ctr: 23.774815\n",
      "fit_std: 5.519907\n",
      "8: 7.360859436224478\n",
      "fit_ctr: 23.771322\n",
      "fit_std: 5.5207973\n",
      "9: 7.775481355057464\n",
      "fit_ctr: 23.768095\n",
      "fit_std: 5.521578\n",
      "10: 7.828404925463204\n",
      "fit_ctr: 23.76528\n",
      "fit_std: 5.5221853\n",
      "11: 7.263677118875921\n",
      "fit_ctr: 23.76271\n",
      "fit_std: 5.5226564\n",
      "12: 7.773770951790556\n",
      "fit_ctr: 23.759829\n",
      "fit_std: 5.5232816\n",
      "13: 7.478767682146854\n",
      "fit_ctr: 23.757387\n",
      "fit_std: 5.5237164\n",
      "14: 7.608935729777869\n",
      "fit_ctr: 23.754047\n",
      "fit_std: 5.5245776\n",
      "15: 7.451043021856939\n",
      "fit_ctr: 23.74945\n",
      "fit_std: 5.526016\n",
      "16: 7.698338722428656\n",
      "fit_ctr: 23.745111\n",
      "fit_std: 5.527341\n",
      "17: 7.347225132865514\n",
      "fit_ctr: 23.741268\n",
      "fit_std: 5.528434\n",
      "18: 7.589440468285022\n",
      "fit_ctr: 23.737452\n",
      "fit_std: 5.5295157\n",
      "19: 7.5460883276813275\n",
      "fit_ctr: 23.733809\n",
      "fit_std: 5.5305214\n",
      "20: 7.166900235137177\n",
      "fit_ctr: 23.730394\n",
      "fit_std: 5.531425\n",
      "21: 7.1796958111162485\n",
      "fit_ctr: 23.727242\n",
      "fit_std: 5.532229\n",
      "22: 7.486173888131396\n",
      "fit_ctr: 23.724207\n",
      "fit_std: 5.532988\n",
      "23: 7.66241727781794\n",
      "fit_ctr: 23.721216\n",
      "fit_std: 5.533716\n",
      "24: 7.263796943840419\n",
      "fit_ctr: 23.717968\n",
      "fit_std: 5.5345507\n",
      "25: 7.851343315310702\n",
      "fit_ctr: 23.714104\n",
      "fit_std: 5.5356627\n",
      "26: 7.757499960027686\n",
      "fit_ctr: 23.710106\n",
      "fit_std: 5.5368156\n",
      "27: 7.419276266750455\n",
      "fit_ctr: 23.705624\n",
      "fit_std: 5.538191\n",
      "28: 7.699703762354917\n",
      "fit_ctr: 23.700876\n",
      "fit_std: 5.5396857\n",
      "29: 7.853613304323673\n",
      "fit_ctr: 23.696905\n",
      "fit_std: 5.5408053\n",
      "30: 7.7298234182329955\n",
      "fit_ctr: 23.693481\n",
      "fit_std: 5.5416727\n",
      "31: 7.79420671170074\n",
      "fit_ctr: 23.689703\n",
      "fit_std: 5.5427036\n",
      "32: 7.967145235969634\n",
      "fit_ctr: 23.68725\n",
      "fit_std: 5.543136\n",
      "33: 7.493808435429656\n",
      "fit_ctr: 23.68553\n",
      "fit_std: 5.5432343\n",
      "34: 7.768634151586343\n",
      "fit_ctr: 23.68314\n",
      "fit_std: 5.543647\n",
      "35: 7.693142935262645\n",
      "fit_ctr: 23.68035\n",
      "fit_std: 5.5442348\n",
      "36: 7.564929651247479\n",
      "fit_ctr: 23.677015\n",
      "fit_std: 5.545063\n",
      "37: 7.57068930547016\n",
      "fit_ctr: 23.673403\n",
      "fit_std: 5.5460124\n",
      "38: 7.37798543667189\n",
      "fit_ctr: 23.669151\n",
      "fit_std: 5.5472116\n",
      "39: 7.834377052631887\n",
      "fit_ctr: 23.664799\n",
      "fit_std: 5.548453\n",
      "40: 7.766943717220149\n",
      "fit_ctr: 23.660294\n",
      "fit_std: 5.549739\n",
      "41: 7.540020538815931\n",
      "fit_ctr: 23.656862\n",
      "fit_std: 5.5505605\n",
      "42: 7.684405095021185\n",
      "fit_ctr: 23.65374\n",
      "fit_std: 5.551246\n",
      "43: 7.8521937399234565\n",
      "fit_ctr: 23.650738\n",
      "fit_std: 5.5518756\n",
      "44: 7.548397273052351\n",
      "fit_ctr: 23.647764\n",
      "fit_std: 5.5524845\n",
      "45: 7.546729110866932\n",
      "fit_ctr: 23.644543\n",
      "fit_std: 5.5532136\n",
      "46: 7.680447079008903\n",
      "fit_ctr: 23.641413\n",
      "fit_std: 5.553906\n",
      "47: 7.52304504987494\n",
      "fit_ctr: 23.637918\n",
      "fit_std: 5.5547633\n",
      "48: 7.519618459408792\n",
      "fit_ctr: 23.634676\n",
      "fit_std: 5.555499\n",
      "49: 7.588436916835915\n",
      "fit_ctr: 23.63144\n",
      "fit_std: 5.556237\n",
      "50: 7.565962603889267\n",
      "fit_ctr: 23.62809\n",
      "fit_std: 5.557024\n",
      "51: 7.521517306385461\n",
      "fit_ctr: 23.624735\n",
      "fit_std: 5.5578\n",
      "52: 7.5827346807176115\n",
      "fit_ctr: 23.621363\n",
      "fit_std: 5.558589\n",
      "53: 7.409405450773836\n",
      "fit_ctr: 23.618181\n",
      "fit_std: 5.559304\n",
      "54: 7.160633062702912\n",
      "fit_ctr: 23.615318\n",
      "fit_std: 5.559882\n",
      "55: 7.497827271425812\n",
      "fit_ctr: 23.612465\n",
      "fit_std: 5.560467\n",
      "56: 7.458520738431708\n",
      "fit_ctr: 23.609713\n",
      "fit_std: 5.5609965\n",
      "57: 7.28807475357415\n",
      "fit_ctr: 23.606092\n",
      "fit_std: 5.5618973\n",
      "58: 7.547338372572559\n",
      "fit_ctr: 23.602434\n",
      "fit_std: 5.562822\n",
      "59: 7.52939576697357\n",
      "fit_ctr: 23.598854\n",
      "fit_std: 5.5637074\n",
      "60: 7.580976515637959\n",
      "fit_ctr: 23.595377\n",
      "fit_std: 5.564544\n",
      "61: 7.631930567572291\n",
      "fit_ctr: 23.592566\n",
      "fit_std: 5.565092\n",
      "62: 7.651949246698449\n",
      "fit_ctr: 23.589619\n",
      "fit_std: 5.5656915\n",
      "63: 7.342961354217375\n",
      "fit_ctr: 23.586674\n",
      "fit_std: 5.566282\n",
      "64: 7.620043367340729\n",
      "fit_ctr: 23.583565\n",
      "fit_std: 5.566961\n",
      "65: 7.912600500488233\n",
      "fit_ctr: 23.579906\n",
      "fit_std: 5.5678687\n",
      "66: 7.661461683479717\n",
      "fit_ctr: 23.575974\n",
      "fit_std: 5.5688753\n",
      "67: 7.523990533360269\n",
      "fit_ctr: 23.571459\n",
      "fit_std: 5.5701375\n",
      "68: 7.383256555787451\n",
      "fit_ctr: 23.566736\n",
      "fit_std: 5.5715075\n",
      "69: 7.253187750798945\n",
      "fit_ctr: 23.562801\n",
      "fit_std: 5.5725355\n",
      "70: 7.743892133842972\n",
      "fit_ctr: 23.55933\n",
      "fit_std: 5.573381\n",
      "71: 7.493787943043159\n",
      "fit_ctr: 23.555874\n",
      "fit_std: 5.574221\n",
      "72: 7.676020271241929\n",
      "fit_ctr: 23.551943\n",
      "fit_std: 5.5752735\n",
      "73: 7.846968217253816\n",
      "fit_ctr: 23.548737\n",
      "fit_std: 5.576016\n",
      "74: 7.890177912065117\n",
      "fit_ctr: 23.54542\n",
      "fit_std: 5.5767913\n",
      "75: 7.439389927830523\n",
      "fit_ctr: 23.5417\n",
      "fit_std: 5.5777335\n"
     ]
    }
   ],
   "source": [
    "n_smps = 1000\n",
    "for i in range(1000):\n",
    "    \n",
    "    ll = 0\n",
    "    optimizer.zero_grad()\n",
    "    \n",
    "    for c_i in range(n_clusters):\n",
    "        c_l = 0 \n",
    "        data_i = data[c_i]\n",
    "        \n",
    "        for s_i in range(n_smps):\n",
    "            ctr = torch.randn(1)*torch.abs(fit_std) + fit_ctr\n",
    "            var_c = cluster_stds[c_i]**2\n",
    "\n",
    "\n",
    "            diffs = torch.exp((-.5*(data_i - ctr)**2)/var_c)\n",
    "        \n",
    "            c_l+= torch.prod(diffs) # Ignoreing part that doeesn't depend on the ctr\n",
    "        \n",
    "        ll = -1*torch.log(c_l/n_smps)\n",
    "        \n",
    "    if i % 1 == 0:  \n",
    "        print(str(i) + ': ' + str(ll.detach().numpy()))\n",
    "        print('fit_ctr: ' + str(fit_ctr.detach().numpy()))\n",
    "        print('fit_std: ' + str(abs(fit_std.detach().numpy())))\n",
    "              \n",
    "    ll.backward()\n",
    "    optimizer.step()\n",
    "        \n",
    "    "
   ]
  },
  {
   "cell_type": "code",
   "execution_count": null,
   "id": "f22c407a",
   "metadata": {},
   "outputs": [],
   "source": [
    "fit_ctr"
   ]
  },
  {
   "cell_type": "code",
   "execution_count": null,
   "id": "4fe5205a",
   "metadata": {},
   "outputs": [],
   "source": [
    "fit_std"
   ]
  },
  {
   "cell_type": "code",
   "execution_count": null,
   "id": "b779b57d",
   "metadata": {},
   "outputs": [],
   "source": [
    "torch.prod(torch.tensor([1, 2, 4]))"
   ]
  },
  {
   "cell_type": "code",
   "execution_count": 59,
   "id": "d3032638",
   "metadata": {},
   "outputs": [
    {
     "data": {
      "text/plain": [
       "20.009747790112886"
      ]
     },
     "execution_count": 59,
     "metadata": {},
     "output_type": "execute_result"
    }
   ],
   "source": [
    "np.mean(ctrs)"
   ]
  },
  {
   "cell_type": "code",
   "execution_count": null,
   "id": "15ff9aa0",
   "metadata": {},
   "outputs": [],
   "source": []
  }
 ],
 "metadata": {
  "kernelspec": {
   "display_name": "Python 3",
   "language": "python",
   "name": "python3"
  },
  "language_info": {
   "codemirror_mode": {
    "name": "ipython",
    "version": 3
   },
   "file_extension": ".py",
   "mimetype": "text/x-python",
   "name": "python",
   "nbconvert_exporter": "python",
   "pygments_lexer": "ipython3",
   "version": "3.8.8"
  }
 },
 "nbformat": 4,
 "nbformat_minor": 5
}
