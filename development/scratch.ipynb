{
 "cells": [
  {
   "cell_type": "markdown",
   "id": "7cf09ab7",
   "metadata": {},
   "source": [
    "A scratch notebook - anything in here can be safely deleted"
   ]
  },
  {
   "cell_type": "code",
   "execution_count": 4,
   "id": "f9209a96",
   "metadata": {},
   "outputs": [],
   "source": [
    "import pickle\n",
    "import torch"
   ]
  },
  {
   "cell_type": "code",
   "execution_count": 2,
   "id": "e89828bf",
   "metadata": {},
   "outputs": [],
   "source": [
    "file = r'/groups/bishop/bishoplab/projects/probabilistic_model_synthesis/results/real_data/gnlr/same_cond_transfer_analysis/v19/fold_str_base_14_tgt_1/fold_0/subj_10/comb/debug.pt'"
   ]
  },
  {
   "cell_type": "code",
   "execution_count": 5,
   "id": "9bae3cfc",
   "metadata": {},
   "outputs": [],
   "source": [
    "with open(file, 'rb') as f:\n",
    "    rs = pickle.load(f)"
   ]
  },
  {
   "cell_type": "code",
   "execution_count": 8,
   "id": "5ee67330",
   "metadata": {},
   "outputs": [
    {
     "data": {
      "text/plain": [
       "dict_keys(['cp_results', 'early_stopping', 'preds', 'elbos'])"
      ]
     },
     "execution_count": 8,
     "metadata": {},
     "output_type": "execute_result"
    }
   ],
   "source": [
    "rs['sp'].keys()"
   ]
  },
  {
   "cell_type": "code",
   "execution_count": 9,
   "id": "bbfae63e",
   "metadata": {},
   "outputs": [
    {
     "data": {
      "text/plain": [
       "{1: {'train': {'elbo': tensor(-12190.0283),\n",
       "   'ell': tensor(-9744.0518),\n",
       "   'w_kl': tensor(0.),\n",
       "   's_in_kl': tensor(45.1281),\n",
       "   'b_in_kl': tensor(-5.9605e-07),\n",
       "   's_out_kl': tensor(0.0600),\n",
       "   'b_out_kl': tensor(0.0025),\n",
       "   'psi_kl': tensor(0.0094)},\n",
       "  'validation': {'elbo': tensor(-27752.4902),\n",
       "   'ell': tensor(-22310.0859),\n",
       "   'w_kl': tensor(0.),\n",
       "   's_in_kl': tensor(45.1281),\n",
       "   'b_in_kl': tensor(-5.9605e-07),\n",
       "   's_out_kl': tensor(0.0600),\n",
       "   'b_out_kl': tensor(0.0025),\n",
       "   'psi_kl': tensor(0.0094)},\n",
       "  'test': {'elbo': tensor(-29950.7754),\n",
       "   'ell': tensor(-36865.9922),\n",
       "   'w_kl': tensor(0.),\n",
       "   's_in_kl': tensor(45.1281),\n",
       "   'b_in_kl': tensor(-5.9605e-07),\n",
       "   's_out_kl': tensor(0.0600),\n",
       "   'b_out_kl': tensor(0.0025),\n",
       "   'psi_kl': tensor(0.0094)}},\n",
       " 2: {'train': {'elbo': tensor(-8476.8174),\n",
       "   'ell': tensor(-7403.4321),\n",
       "   'w_kl': tensor(0.),\n",
       "   's_in_kl': tensor(20.8949),\n",
       "   'b_in_kl': tensor(-7.7486e-07),\n",
       "   's_out_kl': tensor(0.0442),\n",
       "   'b_out_kl': tensor(0.0003),\n",
       "   'psi_kl': tensor(0.0018)},\n",
       "  'validation': {'elbo': tensor(-18747.6191),\n",
       "   'ell': tensor(-20527.3398),\n",
       "   'w_kl': tensor(0.),\n",
       "   's_in_kl': tensor(20.8949),\n",
       "   'b_in_kl': tensor(-7.7486e-07),\n",
       "   's_out_kl': tensor(0.0442),\n",
       "   'b_out_kl': tensor(0.0003),\n",
       "   'psi_kl': tensor(0.0018)},\n",
       "  'test': {'elbo': tensor(-16831.8516),\n",
       "   'ell': tensor(-15531.9932),\n",
       "   'w_kl': tensor(0.),\n",
       "   's_in_kl': tensor(20.8949),\n",
       "   'b_in_kl': tensor(-7.7486e-07),\n",
       "   's_out_kl': tensor(0.0442),\n",
       "   'b_out_kl': tensor(0.0003),\n",
       "   'psi_kl': tensor(0.0018)}},\n",
       " 5: {'train': {'elbo': tensor(-17932.3105),\n",
       "   'ell': tensor(-25343.1582),\n",
       "   'w_kl': tensor(0.),\n",
       "   's_in_kl': tensor(37.4568),\n",
       "   'b_in_kl': tensor(-4.4703e-07),\n",
       "   's_out_kl': tensor(0.5619),\n",
       "   'b_out_kl': tensor(0.0003),\n",
       "   'psi_kl': tensor(0.0138)},\n",
       "  'validation': {'elbo': tensor(-27448.9746),\n",
       "   'ell': tensor(-28206.0703),\n",
       "   'w_kl': tensor(0.),\n",
       "   's_in_kl': tensor(37.4568),\n",
       "   'b_in_kl': tensor(-4.4703e-07),\n",
       "   's_out_kl': tensor(0.5619),\n",
       "   'b_out_kl': tensor(0.0003),\n",
       "   'psi_kl': tensor(0.0138)},\n",
       "  'test': {'elbo': tensor(-33961.0938),\n",
       "   'ell': tensor(-27997.4258),\n",
       "   'w_kl': tensor(0.),\n",
       "   's_in_kl': tensor(37.4568),\n",
       "   'b_in_kl': tensor(-4.4703e-07),\n",
       "   's_out_kl': tensor(0.5619),\n",
       "   'b_out_kl': tensor(0.0003),\n",
       "   'psi_kl': tensor(0.0138)}},\n",
       " 6: {'train': {'elbo': tensor(-21129.7852),\n",
       "   'ell': tensor(-18007.1836),\n",
       "   'w_kl': tensor(0.),\n",
       "   's_in_kl': tensor(27.8448),\n",
       "   'b_in_kl': tensor(-2.9802e-08),\n",
       "   's_out_kl': tensor(0.4740),\n",
       "   'b_out_kl': tensor(0.0002),\n",
       "   'psi_kl': tensor(0.0231)},\n",
       "  'validation': {'elbo': tensor(-34704.5078),\n",
       "   'ell': tensor(-35336.8125),\n",
       "   'w_kl': tensor(0.),\n",
       "   's_in_kl': tensor(27.8448),\n",
       "   'b_in_kl': tensor(-2.9802e-08),\n",
       "   's_out_kl': tensor(0.4740),\n",
       "   'b_out_kl': tensor(0.0002),\n",
       "   'psi_kl': tensor(0.0231)},\n",
       "  'test': {'elbo': tensor(-35614.2227),\n",
       "   'ell': tensor(-23158.0820),\n",
       "   'w_kl': tensor(0.),\n",
       "   's_in_kl': tensor(27.8448),\n",
       "   'b_in_kl': tensor(-2.9802e-08),\n",
       "   's_out_kl': tensor(0.4740),\n",
       "   'b_out_kl': tensor(0.0002),\n",
       "   'psi_kl': tensor(0.0231)}},\n",
       " 10: {'train': {'elbo': tensor(-270.0321),\n",
       "   'ell': tensor(-309.9308),\n",
       "   'w_kl': tensor(0.),\n",
       "   's_in_kl': tensor(0.5844),\n",
       "   'b_in_kl': tensor(-1.0729e-06),\n",
       "   's_out_kl': tensor(0.0016),\n",
       "   'b_out_kl': tensor(3.2187e-06),\n",
       "   'psi_kl': tensor(0.0406)},\n",
       "  'validation': {'elbo': tensor(-661.7266),\n",
       "   'ell': tensor(-993.7955),\n",
       "   'w_kl': tensor(0.),\n",
       "   's_in_kl': tensor(0.5844),\n",
       "   'b_in_kl': tensor(-1.0729e-06),\n",
       "   's_out_kl': tensor(0.0016),\n",
       "   'b_out_kl': tensor(3.2187e-06),\n",
       "   'psi_kl': tensor(0.0406)},\n",
       "  'test': {'elbo': tensor(-10556.3408),\n",
       "   'ell': tensor(-6151.7485),\n",
       "   'w_kl': tensor(0.),\n",
       "   's_in_kl': tensor(0.5844),\n",
       "   'b_in_kl': tensor(-1.0729e-06),\n",
       "   's_out_kl': tensor(0.0016),\n",
       "   'b_out_kl': tensor(3.2187e-06),\n",
       "   'psi_kl': tensor(0.0406)}}}"
      ]
     },
     "execution_count": 9,
     "metadata": {},
     "output_type": "execute_result"
    }
   ],
   "source": [
    "rs['sp']['elbos']['train']"
   ]
  },
  {
   "cell_type": "code",
   "execution_count": null,
   "id": "8361b54e",
   "metadata": {},
   "outputs": [],
   "source": []
  }
 ],
 "metadata": {
  "kernelspec": {
   "display_name": "Python 3",
   "language": "python",
   "name": "python3"
  },
  "language_info": {
   "codemirror_mode": {
    "name": "ipython",
    "version": 3
   },
   "file_extension": ".py",
   "mimetype": "text/x-python",
   "name": "python",
   "nbconvert_exporter": "python",
   "pygments_lexer": "ipython3",
   "version": "3.8.8"
  }
 },
 "nbformat": 4,
 "nbformat_minor": 5
}
