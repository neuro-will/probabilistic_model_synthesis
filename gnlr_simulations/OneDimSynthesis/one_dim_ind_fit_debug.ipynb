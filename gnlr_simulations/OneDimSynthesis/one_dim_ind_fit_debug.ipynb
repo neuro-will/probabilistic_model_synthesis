{
 "cells": [
  {
   "cell_type": "markdown",
   "id": "d20ba4c6",
   "metadata": {},
   "source": [
    "A notebook for fitting models to one example system at a time"
   ]
  },
  {
   "cell_type": "code",
   "execution_count": 1,
   "id": "f119c616",
   "metadata": {},
   "outputs": [],
   "source": [
    "%load_ext autoreload\n",
    "%autoreload 2"
   ]
  },
  {
   "cell_type": "code",
   "execution_count": 2,
   "id": "3208ac78",
   "metadata": {},
   "outputs": [],
   "source": [
    "import copy\n",
    "import random\n",
    "\n",
    "import matplotlib.cm as cm\n",
    "import matplotlib.pyplot as plt\n",
    "import numpy as np\n",
    "import pathlib\n",
    "import torch\n",
    "\n",
    "from janelia_core.math.basic_functions import list_grid_pts\n",
    "from janelia_core.math.basic_functions import pts_in_arc\n",
    "from janelia_core.ml.extra_torch_modules import DenseLNLNet\n",
    "from janelia_core.ml.fitting import match_torch_module\n",
    "from janelia_core.ml.torch_distributions import MatrixGammaProductDistribution\n",
    "from janelia_core.stats.regression import corr\n",
    "\n",
    "from probabilistic_model_synthesis.gaussian_nonlinear_regression import Fitter\n",
    "from probabilistic_model_synthesis.gaussian_nonlinear_regression import fit_with_hypercube_priors\n",
    "from probabilistic_model_synthesis.gaussian_nonlinear_regression import GNLRMdl\n",
    "from probabilistic_model_synthesis.gaussian_nonlinear_regression import load_check_points\n",
    "from probabilistic_model_synthesis.gaussian_nonlinear_regression import PriorCollection\n",
    "from probabilistic_model_synthesis.gaussian_nonlinear_regression import predict\n",
    "from probabilistic_model_synthesis.gaussian_nonlinear_regression import VICollection\n",
    "from probabilistic_model_synthesis.simulation import generate_sum_of_bump_fcns_dist\n",
    "from probabilistic_model_synthesis.simulation import efficient_cone_and_projected_interval_sample\n",
    "from probabilistic_model_synthesis.simulation import IncreasingSinFcn\n",
    "from probabilistic_model_synthesis.utilities import print_heading\n",
    "from probabilistic_model_synthesis.utilities import print_info\n"
   ]
  },
  {
   "cell_type": "markdown",
   "id": "a30c3a20",
   "metadata": {},
   "source": [
    "## Parameters go here "
   ]
  },
  {
   "cell_type": "code",
   "execution_count": 3,
   "id": "69feb9d6",
   "metadata": {},
   "outputs": [],
   "source": [
    "ps = dict()\n",
    "\n",
    "# Range of the number of input variables we observe from each example system - the actual number of variables we\n",
    "# observe from an example system will be pulled uniformly from this range (inclusive)\n",
    "ps['n_input_var_range'] = [10000, 11000]\n",
    "\n",
    "# Range of the number of samples we observe from each example system - the actual number we observe from each\n",
    "# example system will be unformly from this range (inclusive)\n",
    "ps['n_smps_range'] = [100000, 100001] #[15000, 15001] works\n",
    "\n",
    "# Number of intermediate variables we project down into\n",
    "ps['p'] = 1\n",
    "\n",
    "# Number of variabales we predict\n",
    "ps['d_pred'] = 1\n",
    "\n",
    "\n",
    "# ===============================================================================================\n",
    "# Parameters for the true priors\n",
    "\n",
    "# Options for the prior distribution on weights\n",
    "ps['true_w_prior_opts'] = {'n_bump_fcns': 50, 'd_in': 2, 'p': 1, 'mn_m_std': 1.0, 'std_m_std': .1, 'bump_w': .2}\n",
    "\n",
    "# Options for the prior on noise standard deviations\n",
    "ps['true_psi_prior_opts'] = {'conc_iv': 10.0, 'rate_iv': 1000.0, 'rate_ub': 10000.0}\n",
    "\n",
    "# ===============================================================================================\n",
    "# Options for fixed scales and offsets (we don't learn these)\n",
    "\n",
    "# Scales and offsets to apply when projecting down to the intermediate variables\n",
    "ps['s_in'] = torch.tensor([1.0 / np.sqrt(ps['n_input_var_range'][0])] * ps['p'], dtype=torch.float)\n",
    "ps['b_in'] = torch.tensor([0.0] * ps['p'], dtype=torch.float)\n",
    "\n",
    "# Scales and offsets to apply after the m-module\n",
    "ps['s_out'] = torch.tensor([1.0] * ps['d_pred'], dtype=torch.float)\n",
    "ps['b_out'] = torch.tensor([0.0] * ps['d_pred'], dtype=torch.float)\n",
    "\n",
    "# ===============================================================================================\n",
    "# Parameters for setting up how we fit things with DPMS\n",
    "\n",
    "# The full options for setting up the prior on weights\n",
    "fit_hc_params = {'n_divisions_per_dim': [1, 1],\n",
    "                 'dim_ranges': np.asarray([[-.1, 1.1],\n",
    "                                           [-.1, 1.1]]),\n",
    "                 'n_div_per_hc_side_per_dim': [2, 2]}\n",
    "\n",
    "# The full options for setting up the prior on weights\n",
    "ps['fit_w_prior_opts'] = {'mn_hc_params': fit_hc_params, 'std_hc_params': fit_hc_params,\n",
    "                          'min_std': 1E-9, 'mn_init': 0.0, 'std_init': 300}\n",
    "\n",
    "# Options for prior on noise standard deviation\n",
    "ps['fit_psi_prior_opts'] = ps['true_psi_prior_opts']\n",
    "\n",
    "# Options for posterior distribtions\n",
    "ps['psi_post_opts'] = {'conc_iv': 10.0, 'rate_iv': 1.0, 'rate_ub': 100000.0}\n",
    "\n",
    "# Options for the densenet which makes up the shared-m module\n",
    "ps['dense_net_opts'] = {'n_layers': 2, 'growth_rate': 10, 'bias': True}\n",
    "\n",
    "\n",
    "# ======================================================================================================\n",
    "# Parameters for fitting - should be entered as lists, each entry corresponding to one round of fitting\n",
    "\n",
    "# Parameters when fitting combined models\n",
    "\n",
    "cp_save_folder = r'/groups/bishop/bishoplab/projects/probabilistic_model_synthesis/results/testing/gnlr'\n",
    "cp_save_folder = pathlib.Path(cp_save_folder) / 'cp'\n",
    "\n",
    "ps['sp_fit_opts'] = [{'n_epochs': 10, 'milestones': None, 'update_int': 100, \n",
    "                      'init_lr': .0, 'n_batches': 2, \n",
    "                      'cp_save_folder': cp_save_folder, 'cp_save_str': 'sp_', \n",
    "                      'cp_epochs': list(range(0, 1000, 100)) + [9999]}]\n",
    "ps['ip_fit_opts'] = [{'n_epochs': 1000, 'milestones': [5000], 'update_int': 100, \n",
    "                      'init_lr': .001, 'n_batches': 2, \n",
    "                      'cp_save_folder': cp_save_folder, 'cp_save_str': 'ip_', \n",
    "                      'cp_epochs': list(range(0, 1000, 100)) + [9999]},\n",
    "                     {'n_epochs': 1000, 'milestones': [1000], 'update_int': 100, \n",
    "                      'init_lr': .001, 'n_batches': 2, \n",
    "                      'cp_save_folder': cp_save_folder, 'cp_save_str': 'ip_', \n",
    "                      'cp_epochs': list(range(0, 1000, 100)) + [9999]}]\n",
    "\n",
    "# ======================================================================================================\n",
    "# Determine if we set a random seed.  Can use this for reproducibility.\n",
    "\n",
    "ps['random_seed'] = None # Set to None, to not set random seeds\n",
    "\n",
    "\n",
    "# ======================================================================================================\n",
    "# Specify the range of active neurons\n",
    "ps['ang_range'] = [0, np.pi] # [0, np.pi]\n",
    "\n",
    "# ======================================================================================================\n",
    "# Specify interval data is generated in \n",
    "ps['int_range'] = [-196.0, -98.0]"
   ]
  },
  {
   "cell_type": "markdown",
   "id": "9167c7b1",
   "metadata": {},
   "source": [
    "## Set random seeds for reprodicability of results"
   ]
  },
  {
   "cell_type": "code",
   "execution_count": 4,
   "id": "33032cc0",
   "metadata": {},
   "outputs": [],
   "source": [
    "if ps['random_seed'] is not None:\n",
    "    torch.manual_seed(ps['random_seed'])\n",
    "    random.seed(ps['random_seed'])\n",
    "    np.random.seed(ps['random_seed'])"
   ]
  },
  {
   "cell_type": "markdown",
   "id": "dadd4545",
   "metadata": {},
   "source": [
    "## Create true distributions that govern how true systems are generated"
   ]
  },
  {
   "cell_type": "code",
   "execution_count": 5,
   "id": "a84dfd7c",
   "metadata": {},
   "outputs": [],
   "source": [
    "true_priors = PriorCollection(w_prior=generate_sum_of_bump_fcns_dist(**ps['true_w_prior_opts']),\n",
    "                              psi_prior=MatrixGammaProductDistribution(shape=[ps['d_pred'], 1],\n",
    "                                                                       **ps['true_psi_prior_opts']))"
   ]
  },
  {
   "cell_type": "markdown",
   "id": "7732c0f2",
   "metadata": {},
   "source": [
    "## Define the true non-linear function relating projections of input variables to the mean of output variables"
   ]
  },
  {
   "cell_type": "code",
   "execution_count": 6,
   "id": "c6db63ec",
   "metadata": {},
   "outputs": [],
   "source": [
    "m_true = IncreasingSinFcn()"
   ]
  },
  {
   "cell_type": "code",
   "execution_count": 7,
   "id": "c3b91caa",
   "metadata": {},
   "outputs": [],
   "source": [
    "class Identity(torch.nn.Module):\n",
    "    \n",
    "    def __init__(self):\n",
    "        super().__init__()\n",
    "        \n",
    "    def forward(self, x):\n",
    "        return x"
   ]
  },
  {
   "cell_type": "code",
   "execution_count": 8,
   "id": "52ddd803",
   "metadata": {},
   "outputs": [],
   "source": [
    "#m_true = Identity()"
   ]
  },
  {
   "cell_type": "markdown",
   "id": "3d7e2bc8",
   "metadata": {},
   "source": [
    "## Generate example system and data"
   ]
  },
  {
   "cell_type": "markdown",
   "id": "67d705f8",
   "metadata": {},
   "source": [
    "Generate example properties "
   ]
  },
  {
   "cell_type": "code",
   "execution_count": 9,
   "id": "dfdb3bcd",
   "metadata": {},
   "outputs": [],
   "source": [
    "ind_n_vars = np.random.randint(ps['n_input_var_range'][0], ps['n_input_var_range'][1]+1)\n",
    "ind_props = torch.rand(size=[ind_n_vars,2])"
   ]
  },
  {
   "cell_type": "markdown",
   "id": "83942130",
   "metadata": {},
   "source": [
    "Generate true model"
   ]
  },
  {
   "cell_type": "code",
   "execution_count": 10,
   "id": "a047a93d",
   "metadata": {},
   "outputs": [],
   "source": [
    "true_mdl = GNLRMdl(m=m_true,\n",
    "                   w=true_priors.w_prior.form_standard_sample(true_priors.w_prior.sample(ind_props)),\n",
    "                   s_in=ps['s_in'],\n",
    "                   b_in=ps['b_in'],\n",
    "                   s_out=ps['s_out'],\n",
    "                   b_out=ps['b_out'],\n",
    "                   psi=true_priors.psi_prior.form_standard_sample(\n",
    "                       true_priors.psi_prior.sample(ind_props)).squeeze(axis=1))"
   ]
  },
  {
   "cell_type": "markdown",
   "id": "a6608bf1",
   "metadata": {},
   "source": [
    "Generate data from the example system"
   ]
  },
  {
   "cell_type": "code",
   "execution_count": 11,
   "id": "60e69d13",
   "metadata": {},
   "outputs": [],
   "source": [
    "ind_n_smps = np.random.randint(ps['n_smps_range'][0], ps['n_smps_range'][1])"
   ]
  },
  {
   "cell_type": "code",
   "execution_count": 12,
   "id": "6a4c7c0f",
   "metadata": {},
   "outputs": [],
   "source": [
    "x_train = efficient_cone_and_projected_interval_sample(n_smps=ind_n_smps,\n",
    "                                                       locs=ind_props,\n",
    "                                                       ctr=torch.tensor([.5, .5]),\n",
    "                                                       ang_range=ps['ang_range'],\n",
    "                                                       w=true_mdl.w.detach(),\n",
    "                                                       interval=ps['int_range'],\n",
    "                                                       big_std=1.0,\n",
    "                                                       small_std=0,\n",
    "                                                       device=torch.device('cuda'))"
   ]
  },
  {
   "cell_type": "code",
   "execution_count": 13,
   "id": "32cc9552",
   "metadata": {},
   "outputs": [],
   "source": [
    "true_mdl.to('cuda')\n",
    "with torch.no_grad():\n",
    "        y_train = true_mdl.sample(x=x_train)"
   ]
  },
  {
   "cell_type": "markdown",
   "id": "c702e6fc",
   "metadata": {},
   "source": [
    "## Fit model to the example system with DPMS"
   ]
  },
  {
   "cell_type": "code",
   "execution_count": 14,
   "id": "735a52d5",
   "metadata": {},
   "outputs": [
    {
     "name": "stdout",
     "output_type": "stream",
     "text": [
      "fixed_s_in: True\n",
      "Found 1 GPUs\n",
      "Fixing variance of sp w_prior.\n",
      "Beginning SP fitting.\n",
      "\n",
      "=========== EPOCH 0 COMPLETE ===========\n",
      "Obj: 1.17e+07\n",
      "----------------------------------------\n",
      "NELL: 1.17e+07\n",
      "W KL: 0.00e+00\n",
      "S_in KL: 0.00e+00\n",
      "B_in KL: 0.00e+00\n",
      "S_out KL: 0.00e+00\n",
      "B_out KL: 0.00e+00\n",
      "Psi KL: 9.93e+03\n",
      "----------------------------------------\n",
      "LR: 0.0\n",
      "Elapsed time (secs): 0.0349428653717041\n",
      "----------------------------------------\n",
      "CPU cur memory used (GB): 4.58e+00\n",
      "GPU_0 cur memory used (GB): 4.07e+00, max memory used (GB): 4.07e+00\n",
      "Saved check point for epoch 0.\n",
      "Beginning IP fitting.\n",
      "\n",
      "=========== EPOCH 0 COMPLETE ===========\n",
      "Obj: 3.19e+05\n",
      "----------------------------------------\n",
      "NELL: 2.02e+05\n",
      "W KL: 1.07e+05\n",
      "S_in KL: 0.00e+00\n",
      "B_in KL: 0.00e+00\n",
      "S_out KL: 0.00e+00\n",
      "B_out KL: 0.00e+00\n",
      "Psi KL: 9.89e+03\n",
      "----------------------------------------\n",
      "LR: 0.001\n",
      "Elapsed time (secs): 0.04531049728393555\n",
      "----------------------------------------\n",
      "CPU cur memory used (GB): 8.65e+00\n",
      "GPU_0 cur memory used (GB): 4.07e+00, max memory used (GB): 4.07e+00\n",
      "Saved check point for epoch 0.\n",
      "\n",
      "=========== EPOCH 100 COMPLETE ===========\n",
      "Obj: 2.55e+05\n",
      "----------------------------------------\n",
      "NELL: 1.58e+05\n",
      "W KL: 9.40e+04\n",
      "S_in KL: 0.00e+00\n",
      "B_in KL: 0.00e+00\n",
      "S_out KL: 0.00e+00\n",
      "B_out KL: 0.00e+00\n",
      "Psi KL: 3.46e+03\n",
      "----------------------------------------\n",
      "LR: 0.001\n",
      "Elapsed time (secs): 4.563467502593994\n",
      "----------------------------------------\n",
      "CPU cur memory used (GB): 8.65e+00\n",
      "GPU_0 cur memory used (GB): 4.07e+00, max memory used (GB): 4.07e+00\n",
      "Saved check point for epoch 100.\n",
      "\n",
      "=========== EPOCH 200 COMPLETE ===========\n",
      "Obj: 2.32e+05\n",
      "----------------------------------------\n",
      "NELL: 1.50e+05\n",
      "W KL: 8.09e+04\n",
      "S_in KL: 0.00e+00\n",
      "B_in KL: 0.00e+00\n",
      "S_out KL: 0.00e+00\n",
      "B_out KL: 0.00e+00\n",
      "Psi KL: 1.40e+03\n",
      "----------------------------------------\n",
      "LR: 0.001\n",
      "Elapsed time (secs): 9.090528964996338\n",
      "----------------------------------------\n",
      "CPU cur memory used (GB): 8.65e+00\n",
      "GPU_0 cur memory used (GB): 4.07e+00, max memory used (GB): 4.07e+00\n",
      "Saved check point for epoch 200.\n",
      "\n",
      "=========== EPOCH 300 COMPLETE ===========\n",
      "Obj: 1.79e+05\n",
      "----------------------------------------\n",
      "NELL: 1.11e+05\n",
      "W KL: 6.78e+04\n",
      "S_in KL: 0.00e+00\n",
      "B_in KL: 0.00e+00\n",
      "S_out KL: 0.00e+00\n",
      "B_out KL: 0.00e+00\n",
      "Psi KL: 5.81e+02\n",
      "----------------------------------------\n",
      "LR: 0.001\n",
      "Elapsed time (secs): 13.619152307510376\n",
      "----------------------------------------\n",
      "CPU cur memory used (GB): 8.65e+00\n",
      "GPU_0 cur memory used (GB): 4.07e+00, max memory used (GB): 4.07e+00\n",
      "Saved check point for epoch 300.\n",
      "\n",
      "=========== EPOCH 400 COMPLETE ===========\n",
      "Obj: 1.25e+05\n",
      "----------------------------------------\n",
      "NELL: 7.01e+04\n",
      "W KL: 5.48e+04\n",
      "S_in KL: 0.00e+00\n",
      "B_in KL: 0.00e+00\n",
      "S_out KL: 0.00e+00\n",
      "B_out KL: 0.00e+00\n",
      "Psi KL: 2.27e+02\n",
      "----------------------------------------\n",
      "LR: 0.001\n",
      "Elapsed time (secs): 18.143122673034668\n",
      "----------------------------------------\n",
      "CPU cur memory used (GB): 8.65e+00\n",
      "GPU_0 cur memory used (GB): 4.07e+00, max memory used (GB): 4.07e+00\n",
      "Saved check point for epoch 400.\n",
      "\n",
      "=========== EPOCH 500 COMPLETE ===========\n",
      "Obj: 1.03e+05\n",
      "----------------------------------------\n",
      "NELL: 6.14e+04\n",
      "W KL: 4.20e+04\n",
      "S_in KL: 0.00e+00\n",
      "B_in KL: 0.00e+00\n",
      "S_out KL: 0.00e+00\n",
      "B_out KL: 0.00e+00\n",
      "Psi KL: 7.80e+01\n",
      "----------------------------------------\n",
      "LR: 0.001\n",
      "Elapsed time (secs): 22.670626401901245\n",
      "----------------------------------------\n",
      "CPU cur memory used (GB): 8.65e+00\n",
      "GPU_0 cur memory used (GB): 4.07e+00, max memory used (GB): 4.07e+00\n",
      "Saved check point for epoch 500.\n",
      "\n",
      "=========== EPOCH 600 COMPLETE ===========\n",
      "Obj: 6.73e+04\n",
      "----------------------------------------\n",
      "NELL: 3.70e+04\n",
      "W KL: 3.02e+04\n",
      "S_in KL: 0.00e+00\n",
      "B_in KL: 0.00e+00\n",
      "S_out KL: 0.00e+00\n",
      "B_out KL: 0.00e+00\n",
      "Psi KL: 3.01e+01\n",
      "----------------------------------------\n",
      "LR: 0.001\n",
      "Elapsed time (secs): 27.194570779800415\n",
      "----------------------------------------\n",
      "CPU cur memory used (GB): 8.65e+00\n",
      "GPU_0 cur memory used (GB): 4.07e+00, max memory used (GB): 4.07e+00\n",
      "Saved check point for epoch 600.\n",
      "\n",
      "=========== EPOCH 700 COMPLETE ===========\n",
      "Obj: 1.36e+04\n",
      "----------------------------------------\n",
      "NELL: -7.10e+03\n",
      "W KL: 2.06e+04\n",
      "S_in KL: 0.00e+00\n",
      "B_in KL: 0.00e+00\n",
      "S_out KL: 0.00e+00\n",
      "B_out KL: 0.00e+00\n",
      "Psi KL: 2.08e+01\n",
      "----------------------------------------\n",
      "LR: 0.001\n",
      "Elapsed time (secs): 31.721155881881714\n",
      "----------------------------------------\n",
      "CPU cur memory used (GB): 8.65e+00\n",
      "GPU_0 cur memory used (GB): 4.07e+00, max memory used (GB): 4.07e+00\n",
      "Saved check point for epoch 700.\n",
      "\n",
      "=========== EPOCH 800 COMPLETE ===========\n",
      "Obj: 4.62e+03\n",
      "----------------------------------------\n",
      "NELL: -8.92e+03\n",
      "W KL: 1.35e+04\n",
      "S_in KL: 0.00e+00\n",
      "B_in KL: 0.00e+00\n",
      "S_out KL: 0.00e+00\n",
      "B_out KL: 0.00e+00\n",
      "Psi KL: 1.93e+01\n",
      "----------------------------------------\n",
      "LR: 0.001\n",
      "Elapsed time (secs): 36.2458610534668\n",
      "----------------------------------------\n",
      "CPU cur memory used (GB): 8.65e+00\n",
      "GPU_0 cur memory used (GB): 4.07e+00, max memory used (GB): 4.07e+00\n",
      "Saved check point for epoch 800.\n",
      "\n",
      "=========== EPOCH 900 COMPLETE ===========\n",
      "Obj: -4.92e+03\n",
      "----------------------------------------\n",
      "NELL: -1.69e+04\n",
      "W KL: 1.20e+04\n",
      "S_in KL: 0.00e+00\n",
      "B_in KL: 0.00e+00\n",
      "S_out KL: 0.00e+00\n",
      "B_out KL: 0.00e+00\n",
      "Psi KL: 1.74e+01\n",
      "----------------------------------------\n",
      "LR: 0.001\n",
      "Elapsed time (secs): 40.7684268951416\n",
      "----------------------------------------\n",
      "CPU cur memory used (GB): 8.65e+00\n",
      "GPU_0 cur memory used (GB): 4.07e+00, max memory used (GB): 4.07e+00\n",
      "Saved check point for epoch 900.\n",
      "\n",
      "=========== EPOCH 0 COMPLETE ===========\n",
      "Obj: 7.24e+04\n",
      "----------------------------------------\n",
      "NELL: 5.94e+04\n",
      "W KL: 1.29e+04\n",
      "S_in KL: 0.00e+00\n",
      "B_in KL: 0.00e+00\n",
      "S_out KL: 0.00e+00\n",
      "B_out KL: 0.00e+00\n",
      "Psi KL: 1.45e+01\n",
      "----------------------------------------\n",
      "LR: 0.001\n",
      "Elapsed time (secs): 0.045110464096069336\n",
      "----------------------------------------\n",
      "CPU cur memory used (GB): 8.65e+00\n",
      "GPU_0 cur memory used (GB): 4.07e+00, max memory used (GB): 4.07e+00\n",
      "Saved check point for epoch 0.\n",
      "\n",
      "=========== EPOCH 100 COMPLETE ===========\n",
      "Obj: -3.91e+04\n",
      "----------------------------------------\n",
      "NELL: -5.25e+04\n",
      "W KL: 1.35e+04\n",
      "S_in KL: 0.00e+00\n",
      "B_in KL: 0.00e+00\n",
      "S_out KL: 0.00e+00\n",
      "B_out KL: 0.00e+00\n",
      "Psi KL: 9.87e+00\n",
      "----------------------------------------\n",
      "LR: 0.001\n",
      "Elapsed time (secs): 4.571574687957764\n",
      "----------------------------------------\n",
      "CPU cur memory used (GB): 8.65e+00\n",
      "GPU_0 cur memory used (GB): 4.07e+00, max memory used (GB): 4.07e+00\n",
      "Saved check point for epoch 100.\n",
      "\n",
      "=========== EPOCH 200 COMPLETE ===========\n",
      "Obj: -4.57e+04\n",
      "----------------------------------------\n",
      "NELL: -5.98e+04\n",
      "W KL: 1.42e+04\n",
      "S_in KL: 0.00e+00\n",
      "B_in KL: 0.00e+00\n",
      "S_out KL: 0.00e+00\n",
      "B_out KL: 0.00e+00\n",
      "Psi KL: 7.30e+00\n",
      "----------------------------------------\n",
      "LR: 0.001\n",
      "Elapsed time (secs): 9.098325490951538\n",
      "----------------------------------------\n",
      "CPU cur memory used (GB): 8.65e+00\n",
      "GPU_0 cur memory used (GB): 4.07e+00, max memory used (GB): 4.07e+00\n",
      "Saved check point for epoch 200.\n",
      "\n",
      "=========== EPOCH 300 COMPLETE ===========\n",
      "Obj: -3.84e+04\n",
      "----------------------------------------\n",
      "NELL: -5.32e+04\n",
      "W KL: 1.48e+04\n",
      "S_in KL: 0.00e+00\n",
      "B_in KL: 0.00e+00\n",
      "S_out KL: 0.00e+00\n",
      "B_out KL: 0.00e+00\n",
      "Psi KL: 5.51e+00\n",
      "----------------------------------------\n",
      "LR: 0.001\n",
      "Elapsed time (secs): 13.627853155136108\n",
      "----------------------------------------\n",
      "CPU cur memory used (GB): 8.65e+00\n",
      "GPU_0 cur memory used (GB): 4.07e+00, max memory used (GB): 4.07e+00\n",
      "Saved check point for epoch 300.\n",
      "\n",
      "=========== EPOCH 400 COMPLETE ===========\n",
      "Obj: -2.67e+04\n",
      "----------------------------------------\n",
      "NELL: -4.23e+04\n",
      "W KL: 1.55e+04\n",
      "S_in KL: 0.00e+00\n",
      "B_in KL: 0.00e+00\n",
      "S_out KL: 0.00e+00\n",
      "B_out KL: 0.00e+00\n",
      "Psi KL: 4.11e+00\n",
      "----------------------------------------\n",
      "LR: 0.001\n",
      "Elapsed time (secs): 18.15041184425354\n",
      "----------------------------------------\n",
      "CPU cur memory used (GB): 8.65e+00\n",
      "GPU_0 cur memory used (GB): 4.07e+00, max memory used (GB): 4.07e+00\n",
      "Saved check point for epoch 400.\n",
      "\n",
      "=========== EPOCH 500 COMPLETE ===========\n",
      "Obj: -3.88e+04\n",
      "----------------------------------------\n",
      "NELL: -5.46e+04\n",
      "W KL: 1.59e+04\n",
      "S_in KL: 0.00e+00\n",
      "B_in KL: 0.00e+00\n",
      "S_out KL: 0.00e+00\n",
      "B_out KL: 0.00e+00\n",
      "Psi KL: 3.20e+00\n",
      "----------------------------------------\n",
      "LR: 0.001\n",
      "Elapsed time (secs): 22.67737078666687\n",
      "----------------------------------------\n",
      "CPU cur memory used (GB): 8.65e+00\n",
      "GPU_0 cur memory used (GB): 4.07e+00, max memory used (GB): 4.07e+00\n",
      "Saved check point for epoch 500.\n"
     ]
    },
    {
     "name": "stdout",
     "output_type": "stream",
     "text": [
      "\n",
      "=========== EPOCH 600 COMPLETE ===========\n",
      "Obj: -4.35e+04\n",
      "----------------------------------------\n",
      "NELL: -5.98e+04\n",
      "W KL: 1.62e+04\n",
      "S_in KL: 0.00e+00\n",
      "B_in KL: 0.00e+00\n",
      "S_out KL: 0.00e+00\n",
      "B_out KL: 0.00e+00\n",
      "Psi KL: 2.52e+00\n",
      "----------------------------------------\n",
      "LR: 0.001\n",
      "Elapsed time (secs): 27.223101377487183\n",
      "----------------------------------------\n",
      "CPU cur memory used (GB): 8.65e+00\n",
      "GPU_0 cur memory used (GB): 4.07e+00, max memory used (GB): 4.07e+00\n",
      "Saved check point for epoch 600.\n",
      "\n",
      "=========== EPOCH 700 COMPLETE ===========\n",
      "Obj: -3.87e+04\n",
      "----------------------------------------\n",
      "NELL: -5.53e+04\n",
      "W KL: 1.67e+04\n",
      "S_in KL: 0.00e+00\n",
      "B_in KL: 0.00e+00\n",
      "S_out KL: 0.00e+00\n",
      "B_out KL: 0.00e+00\n",
      "Psi KL: 2.00e+00\n",
      "----------------------------------------\n",
      "LR: 0.001\n",
      "Elapsed time (secs): 31.746363401412964\n",
      "----------------------------------------\n",
      "CPU cur memory used (GB): 8.65e+00\n",
      "GPU_0 cur memory used (GB): 4.07e+00, max memory used (GB): 4.07e+00\n",
      "Saved check point for epoch 700.\n",
      "\n",
      "=========== EPOCH 800 COMPLETE ===========\n",
      "Obj: -5.34e+04\n",
      "----------------------------------------\n",
      "NELL: -7.05e+04\n",
      "W KL: 1.71e+04\n",
      "S_in KL: 0.00e+00\n",
      "B_in KL: 0.00e+00\n",
      "S_out KL: 0.00e+00\n",
      "B_out KL: 0.00e+00\n",
      "Psi KL: 1.59e+00\n",
      "----------------------------------------\n",
      "LR: 0.001\n",
      "Elapsed time (secs): 36.272886991500854\n",
      "----------------------------------------\n",
      "CPU cur memory used (GB): 8.65e+00\n",
      "GPU_0 cur memory used (GB): 4.07e+00, max memory used (GB): 4.07e+00\n",
      "Saved check point for epoch 800.\n",
      "\n",
      "=========== EPOCH 900 COMPLETE ===========\n",
      "Obj: -1.40e+04\n",
      "----------------------------------------\n",
      "NELL: -3.15e+04\n",
      "W KL: 1.75e+04\n",
      "S_in KL: 0.00e+00\n",
      "B_in KL: 0.00e+00\n",
      "S_out KL: 0.00e+00\n",
      "B_out KL: 0.00e+00\n",
      "Psi KL: 1.26e+00\n",
      "----------------------------------------\n",
      "LR: 0.001\n",
      "Elapsed time (secs): 40.79533910751343\n",
      "----------------------------------------\n",
      "CPU cur memory used (GB): 8.65e+00\n",
      "GPU_0 cur memory used (GB): 4.07e+00, max memory used (GB): 4.07e+00\n",
      "Saved check point for epoch 900.\n"
     ]
    }
   ],
   "source": [
    "fit_rs = fit_with_hypercube_priors(data=[(x_train, y_train)],\n",
    "                                   props=[ind_props], \n",
    "                                   p=ps['p'],\n",
    "                                   dense_net_opts=ps['dense_net_opts'],\n",
    "                                   sp_fit_opts=ps['sp_fit_opts'],\n",
    "                                   ip_fit_opts=ps['ip_fit_opts'],\n",
    "                                   w_prior_opts=ps['fit_w_prior_opts'],\n",
    "                                   psi_prior_opts=ps['fit_psi_prior_opts'],\n",
    "                                   psi_post_opts=ps['psi_post_opts'],\n",
    "                                   sp_fixed_var=True,\n",
    "                                   fixed_s_in_vl=ps['s_in'],\n",
    "                                   fixed_b_in_vl=ps['b_in'],\n",
    "                                   fixed_s_out_vl=ps['s_out'],\n",
    "                                   fixed_b_out_vl=ps['b_out'], \n",
    "                                   match_init_ip_w_post_to_prior=False)"
   ]
  },
  {
   "cell_type": "markdown",
   "id": "bcf52150",
   "metadata": {},
   "source": [
    "## Visualize where active neurons are"
   ]
  },
  {
   "cell_type": "code",
   "execution_count": 15,
   "id": "acdc61e4",
   "metadata": {},
   "outputs": [],
   "source": [
    "neuron_train_vars = torch.var(x_train, dim=0).cpu().numpy()"
   ]
  },
  {
   "cell_type": "code",
   "execution_count": 16,
   "id": "f7d30f3d",
   "metadata": {},
   "outputs": [
    {
     "data": {
      "text/plain": [
       "Text(0.5, 1.0, 'Variance of individual neurons in training data')"
      ]
     },
     "execution_count": 16,
     "metadata": {},
     "output_type": "execute_result"
    },
    {
     "data": {
      "image/png": "[encoded data removed]",
      "text/plain": [
       "<Figure size 432x288 with 2 Axes>"
      ]
     },
     "metadata": {
      "needs_background": "light"
     },
     "output_type": "display_data"
    }
   ],
   "source": [
    "active_clrs = cm.viridis((neuron_train_vars - np.min(neuron_train_vars))/\n",
    "                         (np.max(neuron_train_vars) - np.min(neuron_train_vars)))\n",
    "plt.figure()\n",
    "plt.scatter(ind_props[:,0].numpy(), ind_props[:,1].numpy(), color=active_clrs)\n",
    "plt.colorbar() \n",
    "plt.title('Variance of individual neurons in training data')"
   ]
  },
  {
   "cell_type": "markdown",
   "id": "3437aeea",
   "metadata": {},
   "source": [
    "## Visualize the range of the low-d space explored in the training data "
   ]
  },
  {
   "cell_type": "code",
   "execution_count": 17,
   "id": "fbe8c05b",
   "metadata": {},
   "outputs": [
    {
     "data": {
      "text/plain": [
       "Text(0.5, 1.0, 'Projected Training Data')"
      ]
     },
     "execution_count": 17,
     "metadata": {},
     "output_type": "execute_result"
    },
    {
     "data": {
      "image/png": "[encoded data removed]",
      "text/plain": [
       "<Figure size 432x288 with 1 Axes>"
      ]
     },
     "metadata": {
      "needs_background": "light"
     },
     "output_type": "display_data"
    }
   ],
   "source": [
    "with torch.no_grad():\n",
    "    l_train = true_mdl.project(x=x_train)\n",
    "    f_train = true_mdl.m(l_train)\n",
    "    l_train = l_train.cpu().numpy()\n",
    "    f_train = f_train.cpu().numpy()\n",
    "    \n",
    "plt.figure()\n",
    "plt.plot(l_train, f_train, 'r.')\n",
    "plt.xlabel('l')\n",
    "plt.ylabel('f(l)')\n",
    "plt.title('Projected Training Data')"
   ]
  },
  {
   "cell_type": "markdown",
   "id": "9613cc23",
   "metadata": {},
   "source": [
    "## Specify the type of fit results we want to example"
   ]
  },
  {
   "cell_type": "code",
   "execution_count": 18,
   "id": "79dc348f",
   "metadata": {},
   "outputs": [],
   "source": [
    "fit_type = 'ip'"
   ]
  },
  {
   "cell_type": "code",
   "execution_count": 19,
   "id": "43c308a3",
   "metadata": {},
   "outputs": [],
   "source": [
    "fit_vi_coll = fit_rs[fit_type]['vi_collections'][0]\n",
    "fit_vi_coll.to('cuda')"
   ]
  },
  {
   "cell_type": "markdown",
   "id": "2282e9b5",
   "metadata": {},
   "source": [
    "## View fitting logs\n",
    "(if we want to)"
   ]
  },
  {
   "cell_type": "code",
   "execution_count": 20,
   "id": "2207c6b7",
   "metadata": {},
   "outputs": [
    {
     "data": {
      "image/png": "[encoded data removed]",
      "text/plain": [
       "<Figure size 432x288 with 8 Axes>"
      ]
     },
     "metadata": {
      "needs_background": "light"
     },
     "output_type": "display_data"
    },
    {
     "data": {
      "image/png": "[encoded data removed]",
      "text/plain": [
       "<Figure size 432x288 with 8 Axes>"
      ]
     },
     "metadata": {
      "needs_background": "light"
     },
     "output_type": "display_data"
    }
   ],
   "source": [
    "if True:\n",
    "    for log in fit_rs[fit_type]['logs']:\n",
    "        Fitter.plot_log(log)"
   ]
  },
  {
   "cell_type": "markdown",
   "id": "4b09df78",
   "metadata": {},
   "source": [
    "## Look at predictions on training data "
   ]
  },
  {
   "cell_type": "code",
   "execution_count": 21,
   "id": "99a360f1",
   "metadata": {},
   "outputs": [
    {
     "data": {
      "text/plain": [
       "Text(0, 0.5, 'y pred')"
      ]
     },
     "execution_count": 21,
     "metadata": {},
     "output_type": "execute_result"
    },
    {
     "data": {
      "image/png": "[encoded data removed]",
      "text/plain": [
       "<Figure size 432x288 with 2 Axes>"
      ]
     },
     "metadata": {
      "needs_background": "light"
     },
     "output_type": "display_data"
    }
   ],
   "source": [
    "with torch.no_grad(): \n",
    "    y_train_plot = y_train.cpu().numpy()\n",
    "    y_train_noiseless = true_mdl(x_train).cpu().numpy()\n",
    "    y_train_pred = predict(coll=fit_vi_coll, x=x_train).cpu().numpy()    \n",
    "\n",
    "plt.figure()\n",
    "\n",
    "ax = plt.subplot(1,2,1)\n",
    "plt.plot(y_train_plot, y_train_pred, 'r.')\n",
    "ax.set_aspect('equal')\n",
    "plt.xlabel('y train')\n",
    "plt.ylabel('y pred')\n",
    "\n",
    "ax = plt.subplot(1,2,2)\n",
    "plt.plot(y_train_noiseless, y_train_pred, 'r.')\n",
    "ax.set_aspect('equal')\n",
    "plt.xlabel('y train noiseless')\n",
    "plt.ylabel('y pred')"
   ]
  },
  {
   "cell_type": "markdown",
   "id": "c2a10f28",
   "metadata": {},
   "source": [
    "## Visualize the mean and standard deviation of the true CPD "
   ]
  },
  {
   "cell_type": "code",
   "execution_count": 22,
   "id": "1ba4b9ea",
   "metadata": {},
   "outputs": [],
   "source": [
    "# Helper formatting function\n",
    "def format_box(ax):\n",
    "    ax.set_aspect('equal', 'box')\n",
    "    ax.set_xlim(0, 1)\n",
    "    ax.set_ylim(0, 1)\n",
    "    plt.xlabel('property dim 1 (a.u.)')\n",
    "    plt.ylabel('property dim 2 (a.u.)')"
   ]
  },
  {
   "cell_type": "code",
   "execution_count": 23,
   "id": "f6bd8e60",
   "metadata": {},
   "outputs": [
    {
     "data": {
      "text/plain": [
       "Text(0.5, 1.0, 'True CPD Standard Deviation')"
      ]
     },
     "execution_count": 23,
     "metadata": {},
     "output_type": "execute_result"
    },
    {
     "data": {
      "image/png": "[encoded data removed]",
      "text/plain": [
       "<Figure size 504x504 with 2 Axes>"
      ]
     },
     "metadata": {
      "needs_background": "light"
     },
     "output_type": "display_data"
    },
    {
     "data": {
      "image/png": "[encoded data removed]",
      "text/plain": [
       "<Figure size 504x504 with 2 Axes>"
      ]
     },
     "metadata": {
      "needs_background": "light"
     },
     "output_type": "display_data"
    }
   ],
   "source": [
    "pts, dim_pts = list_grid_pts(grid_limits=np.asarray([[0, 1.0], [0, 1.0]]), n_pts_per_dim=[100,100])\n",
    "pts = torch.tensor(pts, dtype=torch.float)\n",
    "\n",
    "true_w_mn = true_priors.w_prior(pts).detach().numpy()\n",
    "true_w_std = np.concatenate([d.std_f(pts).detach().cpu().numpy() for d in true_priors.w_prior.dists], axis=1)\n",
    "true_w_mn_im = true_w_mn.reshape([100,100]).transpose()\n",
    "true_w_std_im = true_w_std.reshape([100,100]).transpose()\n",
    "\n",
    "plt.figure(figsize=(7, 7))\n",
    "ax = plt.subplot(1,1,1)\n",
    "im = ax.imshow(true_w_mn_im, origin='lower', extent=[0, 1.0, 0, 1.0])\n",
    "mn_vmin, mn_vmax = im.get_clim() # Keep track of color limits\n",
    "plt.colorbar(im)\n",
    "format_box(ax)\n",
    "plt.title('True CPD Mean')\n",
    "\n",
    "plt.figure(figsize=(7, 7))\n",
    "ax = plt.subplot(1,1,1)\n",
    "im = ax.imshow(true_w_std_im, origin='lower', extent=[0, 1.0, 0, 1.0])\n",
    "std_vmin, std_vmax = im.get_clim() # Keep track of color limits\n",
    "plt.colorbar(im)\n",
    "format_box(ax)\n",
    "plt.title('True CPD Standard Deviation')"
   ]
  },
  {
   "cell_type": "markdown",
   "id": "abef0f15",
   "metadata": {},
   "source": [
    "## Visualize the mean and standard deviation of the fit CPD "
   ]
  },
  {
   "cell_type": "code",
   "execution_count": 24,
   "id": "4c768633",
   "metadata": {},
   "outputs": [],
   "source": [
    "# Helper function for corresponding fit and true CPDs\n",
    "def get_fit_to_true_cpd_scale(fit_priors, true_priors, ang_range=None):\n",
    "    \"\"\"\n",
    "    Learns the best scale to match the fit CPD to the true CPD. \n",
    "    \n",
    "    \"\"\"\n",
    "  \n",
    "    sc_grid_pts, _ = list_grid_pts(grid_limits=np.asarray([[0, 1.0], [0, 1.0]]), n_pts_per_dim=[100,100])\n",
    "    sc_grid_pts = torch.tensor(sc_grid_pts[pts_in_arc(sc_grid_pts, np.asarray([.5, .5]), ang_range),:])\n",
    "\n",
    "    return  np.linalg.lstsq(fit_priors.w_prior(sc_grid_pts).detach().numpy(),\n",
    "                            true_priors.w_prior(sc_grid_pts).detach().numpy(), rcond=None)[0].item()\n"
   ]
  },
  {
   "cell_type": "code",
   "execution_count": 25,
   "id": "ae4317c3",
   "metadata": {},
   "outputs": [],
   "source": [
    "fit_priors = fit_rs['ip']['priors']\n",
    "\n",
    "fit_w_mn = fit_priors.w_prior(pts).detach().numpy()\n",
    "fit_w_std = np.concatenate([d.std_f(pts).detach().cpu().numpy() for d in fit_priors.w_prior.dists], axis=1)"
   ]
  },
  {
   "cell_type": "markdown",
   "id": "5993b73e",
   "metadata": {},
   "source": [
    "Learn the best scale to match the fit CPD to the true CPD - we use the portion of space only where it should be possible to learn the CPD for this.  This should produce the best correspondance between the true and fit CPD for models when we apply DPMS to subjects in isolation.  Because we want to show that using DPMS with many subjects is better than fitting to subjects individually, this produces a conservative visualization for the purposes of our comparison. "
   ]
  },
  {
   "cell_type": "code",
   "execution_count": 26,
   "id": "a8968cbb",
   "metadata": {},
   "outputs": [],
   "source": [
    "# Angle range is only used for single fits\n",
    "true_to_fit_cpd_sc = get_fit_to_true_cpd_scale(fit_priors, true_priors, ang_range=ps['ang_range'])"
   ]
  },
  {
   "cell_type": "code",
   "execution_count": 46,
   "id": "5a15a455",
   "metadata": {},
   "outputs": [
    {
     "data": {
      "text/plain": [
       "1.9841501385631215"
      ]
     },
     "execution_count": 46,
     "metadata": {},
     "output_type": "execute_result"
    }
   ],
   "source": [
    "true_to_fit_cpd_sc"
   ]
  },
  {
   "cell_type": "code",
   "execution_count": 27,
   "id": "63e778e5",
   "metadata": {},
   "outputs": [],
   "source": [
    "fit_w_mn_scaled = fit_w_mn*true_to_fit_cpd_sc\n",
    "fit_w_std_scaled = fit_w_std*np.abs(true_to_fit_cpd_sc)\n",
    "\n",
    "fit_w_mn_scaled_im = fit_w_mn_scaled.reshape([100,100]).transpose()\n",
    "fit_w_std_scaled_im = fit_w_std_scaled.reshape([100,100]).transpose()"
   ]
  },
  {
   "cell_type": "code",
   "execution_count": 28,
   "id": "33102606",
   "metadata": {},
   "outputs": [
    {
     "data": {
      "text/plain": [
       "Text(0.5, 1.0, 'Fit CPD Standard Deviation')"
      ]
     },
     "execution_count": 28,
     "metadata": {},
     "output_type": "execute_result"
    },
    {
     "data": {
      "image/png": "[encoded data removed]",
      "text/plain": [
       "<Figure size 504x504 with 2 Axes>"
      ]
     },
     "metadata": {
      "needs_background": "light"
     },
     "output_type": "display_data"
    },
    {
     "data": {
      "image/png": "[encoded data removed]",
      "text/plain": [
       "<Figure size 504x504 with 2 Axes>"
      ]
     },
     "metadata": {
      "needs_background": "light"
     },
     "output_type": "display_data"
    }
   ],
   "source": [
    "plt.figure(figsize=(7, 7))\n",
    "ax = plt.subplot(1,1,1)\n",
    "im = ax.imshow(fit_w_mn_scaled_im, origin='lower', extent=[0, 1.0, 0, 1.0], vmin=mn_vmin, vmax=mn_vmax)\n",
    "plt.colorbar(im)\n",
    "format_box(ax)\n",
    "plt.title('Fit CPD Mean')\n",
    "\n",
    "plt.figure(figsize=(7, 7))\n",
    "ax = plt.subplot(1,1,1)\n",
    "im = ax.imshow(fit_w_std_scaled_im, origin='lower', extent=[0, 1.0, 0, 1.0])#, vmin=std_vmin, vmax=std_vmax)\n",
    "plt.colorbar(im)\n",
    "format_box(ax)\n",
    "plt.title('Fit CPD Standard Deviation')"
   ]
  },
  {
   "cell_type": "markdown",
   "id": "3c1bfc1c",
   "metadata": {},
   "source": [
    "## Visualize the true and fit shared function "
   ]
  },
  {
   "cell_type": "markdown",
   "id": "59f956ef",
   "metadata": {},
   "source": [
    "First we have to scale and offset the fit function to best match the true function"
   ]
  },
  {
   "cell_type": "code",
   "execution_count": 29,
   "id": "59f8960f",
   "metadata": {},
   "outputs": [],
   "source": [
    "min_l_range = ps['int_range'][0]*ps['s_in']\n",
    "max_l_range = ps['int_range'][1]*ps['s_in']\n",
    "\n",
    "l_plot_pts = np.linspace(min_l_range,max_l_range,1000)\n",
    "m_true_pts = m_true(torch.tensor(l_plot_pts)).numpy()"
   ]
  },
  {
   "cell_type": "code",
   "execution_count": 30,
   "id": "a54b0f5c",
   "metadata": {},
   "outputs": [],
   "source": [
    "m_fit_range = (torch.tensor(ps['int_range'], dtype=torch.float32)*ps['s_in']).unsqueeze(1)"
   ]
  },
  {
   "cell_type": "code",
   "execution_count": 31,
   "id": "327d3bf6",
   "metadata": {},
   "outputs": [
    {
     "name": "stdout",
     "output_type": "stream",
     "text": [
      "17541.898\n",
      "5855.721\n",
      "3346.7344\n",
      "2686.4302\n",
      "735.0435\n",
      "210.08374\n",
      "59.25741\n",
      "35.489025\n"
     ]
    }
   ],
   "source": [
    "# Initialization options we search over\n",
    "weight_vls = np.linspace(-10, 10, 10)\n",
    "bias_vls = np.linspace(-10, 10, 10)\n",
    "er_vls = np.zeros([len(weight_vls), len(bias_vls)])\n",
    "\n",
    "best_er = np.inf\n",
    "best_inds = (None, None)\n",
    "for w_i, w_v in enumerate(weight_vls):\n",
    "    for b_i, b_v in enumerate(bias_vls):\n",
    "        m_fit = copy.deepcopy(fit_rs[fit_type]['vi_collections'][0].mdl.m)\n",
    "        for param in m_fit.parameters():\n",
    "            param.requires_grad = False\n",
    "        m_fit_scaled = torch.nn.Sequential(torch.nn.Linear(1, 1, bias=True), m_fit)\n",
    "        m_fit_scaled[0].weight.data[0] = w_v\n",
    "        m_fit_scaled[0].bias.data[0] = b_v\n",
    "\n",
    "        er = match_torch_module(m_true, m_fit_scaled, m_fit_range, \n",
    "                                optim_opts={'lr': .001}, n_its=500, update_int=6000)\n",
    "        \n",
    "        er = er.detach().numpy()\n",
    "        if er < best_er:\n",
    "            best_er = er\n",
    "            best_inds = (w_i, b_i)\n",
    "            print(best_er)\n",
    "   "
   ]
  },
  {
   "cell_type": "code",
   "execution_count": 32,
   "id": "dcb7bb5d",
   "metadata": {},
   "outputs": [
    {
     "name": "stdout",
     "output_type": "stream",
     "text": [
      "It: 0, Error: 7.652267e+01\n",
      "It: 5000, Error: 3.891726e-02\n",
      "It: 10000, Error: 5.304184e-02\n",
      "It: 15000, Error: 3.986827e-02\n"
     ]
    },
    {
     "data": {
      "text/plain": [
       "tensor(0.0396, grad_fn=<SumBackward0>)"
      ]
     },
     "execution_count": 32,
     "metadata": {},
     "output_type": "execute_result"
    }
   ],
   "source": [
    "m_fit_scaled = torch.nn.Sequential(torch.nn.Linear(1, 1, bias=True), m_fit)\n",
    "m_fit_scaled[0].weight.data[0] = weight_vls[best_inds[0]]\n",
    "m_fit_scaled[0].bias.data[0] = bias_vls[best_inds[1]]\n",
    "match_torch_module(m_true, m_fit_scaled, m_fit_range, \n",
    "                   optim_opts={'lr': .001}, n_its=20000, update_int=5000)"
   ]
  },
  {
   "cell_type": "markdown",
   "id": "cf6dfc8f",
   "metadata": {},
   "source": [
    "Visualize true and fit m function "
   ]
  },
  {
   "cell_type": "code",
   "execution_count": 33,
   "id": "014e3a31",
   "metadata": {},
   "outputs": [],
   "source": [
    "m_fit_pts = m_fit_scaled(torch.tensor(l_plot_pts)).detach().numpy()"
   ]
  },
  {
   "cell_type": "code",
   "execution_count": 34,
   "id": "20f68ef7",
   "metadata": {},
   "outputs": [
    {
     "data": {
      "text/plain": [
       "[<matplotlib.lines.Line2D at 0x14961282c2b0>]"
      ]
     },
     "execution_count": 34,
     "metadata": {},
     "output_type": "execute_result"
    },
    {
     "data": {
      "image/png": "[encoded data removed]",
      "text/plain": [
       "<Figure size 432x288 with 1 Axes>"
      ]
     },
     "metadata": {
      "needs_background": "light"
     },
     "output_type": "display_data"
    }
   ],
   "source": [
    "plt.figure()\n",
    "plt.plot(l_plot_pts, m_true_pts, 'k-', linewidth=4)\n",
    "plt.plot(l_plot_pts, m_fit_pts, 'r-')"
   ]
  },
  {
   "cell_type": "markdown",
   "id": "2605ec6b",
   "metadata": {},
   "source": [
    "## Look at the learned posteriors over weights "
   ]
  },
  {
   "cell_type": "code",
   "execution_count": 35,
   "id": "9528277a",
   "metadata": {},
   "outputs": [],
   "source": [
    "w_true = true_mdl.w.detach().cpu().numpy()"
   ]
  },
  {
   "cell_type": "code",
   "execution_count": 36,
   "id": "0f26376e",
   "metadata": {},
   "outputs": [
    {
     "data": {
      "text/plain": [
       "[<matplotlib.lines.Line2D at 0x14961261af70>]"
      ]
     },
     "execution_count": 36,
     "metadata": {},
     "output_type": "execute_result"
    },
    {
     "data": {
      "image/png": "[encoded data removed]",
      "text/plain": [
       "<Figure size 432x288 with 1 Axes>"
      ]
     },
     "metadata": {
      "needs_background": "light"
     },
     "output_type": "display_data"
    }
   ],
   "source": [
    "active_neurons = np.asarray((torch.var(x_train, dim=0) > 1E-10).tolist())\n",
    "silent_neurons = ~active_neurons\n",
    "\n",
    "\n",
    "post_mn_w = true_to_fit_cpd_sc*fit_rs[fit_type]['vi_collections'][0].posteriors.w_post(ind_props).detach().cpu().numpy()\n",
    "\n",
    "plt.figure()\n",
    "ax = plt.subplot(1,1,1)\n",
    "plt.plot(w_true[active_neurons], post_mn_w[active_neurons], 'k.')\n",
    "plt.plot(w_true[silent_neurons], post_mn_w[silent_neurons], 'r.')\n",
    "#plt.plot([-3, 3], [-3, 3], 'b--')\n",
    "#ax.set_aspect('equal') "
   ]
  },
  {
   "cell_type": "markdown",
   "id": "3ec8bc1a",
   "metadata": {},
   "source": [
    "## Look at true psi and learned posterior over psi"
   ]
  },
  {
   "cell_type": "code",
   "execution_count": 37,
   "id": "a569894b",
   "metadata": {},
   "outputs": [
    {
     "name": "stdout",
     "output_type": "stream",
     "text": [
      "True psi: 0.007587763015180826\n",
      "Fit psi mn: 0.02659897692501545, std: 0.019552309066057205\n"
     ]
    }
   ],
   "source": [
    "true_psi = true_mdl.psi.item()\n",
    "fit_psi_mn = fit_vi_coll.posteriors.psi_post(None).item()\n",
    "fit_psi_std = fit_vi_coll.posteriors.psi_post.dists[0].std(None).item()\n",
    "print('True psi: ' + str(true_psi))\n",
    "print('Fit psi mn: ' + str(fit_psi_mn) + ', std: ' + str(fit_psi_std))"
   ]
  },
  {
   "cell_type": "markdown",
   "id": "e6ceef08",
   "metadata": {},
   "source": [
    "## Evaluate model performance on novel data "
   ]
  },
  {
   "cell_type": "code",
   "execution_count": 38,
   "id": "bcc835f1",
   "metadata": {},
   "outputs": [],
   "source": [
    "x_new =  efficient_cone_and_projected_interval_sample(n_smps=1000,\n",
    "                                                      locs=ind_props,\n",
    "                                                      ctr=torch.tensor([.5, .5]),\n",
    "                                                      ang_range=ps['ang_range'],\n",
    "                                                      w=true_mdl.w.detach(),\n",
    "                                                      interval=ps['int_range'],\n",
    "                                                      big_std=1.0,\n",
    "                                                      small_std=0,\n",
    "                                                      device=torch.device('cuda'))"
   ]
  },
  {
   "cell_type": "code",
   "execution_count": 39,
   "id": "a6033245",
   "metadata": {},
   "outputs": [],
   "source": [
    "with torch.no_grad():\n",
    "    y_new_noiseless = true_mdl(x=x_new).cpu().numpy()\n",
    "    y_new_pred = predict(coll=fit_vi_coll, x=x_new).cpu().numpy()  "
   ]
  },
  {
   "cell_type": "code",
   "execution_count": 40,
   "id": "992dd80e",
   "metadata": {},
   "outputs": [
    {
     "name": "stdout",
     "output_type": "stream",
     "text": [
      "Corr: [0.99338546]\n"
     ]
    },
    {
     "data": {
      "image/png": "[encoded data removed]",
      "text/plain": [
       "<Figure size 432x288 with 1 Axes>"
      ]
     },
     "metadata": {
      "needs_background": "light"
     },
     "output_type": "display_data"
    }
   ],
   "source": [
    "plt.figure()\n",
    "\n",
    "ax = plt.subplot(1,2,1)\n",
    "plt.plot(y_new_noiseless, y_new_pred, 'r.')\n",
    "#ax.set_aspect('equal')\n",
    "plt.xlabel('y new noiseless')\n",
    "plt.ylabel('y new') \n",
    "print('Corr: ' + str(corr(y_new_noiseless, y_new_pred)))"
   ]
  },
  {
   "cell_type": "markdown",
   "id": "b0fd6950",
   "metadata": {},
   "source": [
    "## Examine performance across checkpoints "
   ]
  },
  {
   "cell_type": "code",
   "execution_count": 41,
   "id": "d8966ff2",
   "metadata": {},
   "outputs": [
    {
     "name": "stdout",
     "output_type": "stream",
     "text": [
      "Done loading check point 1 of 1.\n",
      "Done loading check point 1 of 20.\n",
      "Done loading check point 2 of 20.\n",
      "Done loading check point 3 of 20.\n",
      "Done loading check point 4 of 20.\n",
      "Done loading check point 5 of 20.\n",
      "Done loading check point 6 of 20.\n",
      "Done loading check point 7 of 20.\n",
      "Done loading check point 8 of 20.\n",
      "Done loading check point 9 of 20.\n",
      "Done loading check point 10 of 20.\n",
      "Done loading check point 11 of 20.\n",
      "Done loading check point 12 of 20.\n",
      "Done loading check point 13 of 20.\n",
      "Done loading check point 14 of 20.\n",
      "Done loading check point 15 of 20.\n",
      "Done loading check point 16 of 20.\n",
      "Done loading check point 17 of 20.\n",
      "Done loading check point 18 of 20.\n",
      "Done loading check point 19 of 20.\n",
      "Done loading check point 20 of 20.\n"
     ]
    }
   ],
   "source": [
    "sp_cps, sp_cp_epochs = load_check_points(cp_save_folder, 'cp_sp*')\n",
    "ip_cps, ip_cp_epochs = load_check_points(cp_save_folder, 'cp_ip*')"
   ]
  },
  {
   "cell_type": "markdown",
   "id": "18f5df5d",
   "metadata": {},
   "source": [
    "### Look at distribution of projected training points "
   ]
  },
  {
   "cell_type": "code",
   "execution_count": 42,
   "id": "502f63ae",
   "metadata": {},
   "outputs": [],
   "source": [
    "eval_cp = ip_cps[-1]\n",
    "\n",
    "cp_vi_coll = VICollection.from_checkpoint(eval_cp['vi_collections'][0])\n",
    "cp_vi_coll.to('cuda')\n",
    "cp_mdl = cp_vi_coll.mdl\n",
    "cp_w_post = cp_vi_coll.posteriors.w_post\n"
   ]
  },
  {
   "cell_type": "code",
   "execution_count": 43,
   "id": "81a403e8",
   "metadata": {},
   "outputs": [],
   "source": [
    "with torch.no_grad():\n",
    "    l_true = true_mdl.project(x_train).detach().cpu().numpy()\n",
    "    l_est = cp_mdl.project(x=x_train, w=cp_w_post(ind_props)).detach().cpu().numpy()"
   ]
  },
  {
   "cell_type": "code",
   "execution_count": 44,
   "id": "4efe04a3",
   "metadata": {},
   "outputs": [
    {
     "data": {
      "text/plain": [
       "[<matplotlib.lines.Line2D at 0x14961247c850>]"
      ]
     },
     "execution_count": 44,
     "metadata": {},
     "output_type": "execute_result"
    },
    {
     "data": {
      "image/png": "[encoded data removed]",
      "text/plain": [
       "<Figure size 432x288 with 1 Axes>"
      ]
     },
     "metadata": {
      "needs_background": "light"
     },
     "output_type": "display_data"
    }
   ],
   "source": [
    "plt.figure()\n",
    "plt.plot(l_true, l_est, 'r.')"
   ]
  },
  {
   "cell_type": "code",
   "execution_count": 45,
   "id": "c240ee86",
   "metadata": {},
   "outputs": [
    {
     "data": {
      "text/plain": [
       "[{'vi_collections': [{'mdl': GNLRMdl(\n",
       "      (m): Sequential(\n",
       "        (0): DenseLNLNet(\n",
       "          (dense_lnl_0): DenseLayer(\n",
       "            (m): Sequential(\n",
       "              (0): Linear(in_features=1, out_features=10, bias=True)\n",
       "              (1): ReLU()\n",
       "            )\n",
       "          )\n",
       "          (dense_lnl_1): DenseLayer(\n",
       "            (m): Sequential(\n",
       "              (0): Linear(in_features=11, out_features=10, bias=True)\n",
       "              (1): ReLU()\n",
       "            )\n",
       "          )\n",
       "        )\n",
       "        (1): Linear(in_features=21, out_features=1, bias=True)\n",
       "      )\n",
       "    ),\n",
       "    'posteriors': {'w_post': CondMatrixHypercubePrior(\n",
       "       (dists): ModuleList(\n",
       "         (0): CondGaussianDistribution(\n",
       "           (mn_f): SumOfTiledHyperCubeBasisFcns()\n",
       "           (std_f): Sequential(\n",
       "             (0): SumOfTiledHyperCubeBasisFcns()\n",
       "             (1): FixedOffsetExp()\n",
       "           )\n",
       "         )\n",
       "       )\n",
       "     ),\n",
       "     's_in_post': None,\n",
       "     'b_in_post': None,\n",
       "     's_out_post': None,\n",
       "     'b_out_post': None,\n",
       "     'psi_post': MatrixGammaProductDistribution(\n",
       "       (dists): ModuleList(\n",
       "         (0): CondGammaDistribution(\n",
       "           (conc_f): IndSmpConstantBoundedFcn(\n",
       "             (f): ConstantBoundedFcn()\n",
       "           )\n",
       "           (rate_f): IndSmpConstantBoundedFcn(\n",
       "             (f): ConstantBoundedFcn()\n",
       "           )\n",
       "         )\n",
       "       )\n",
       "     )}}],\n",
       "  'priors': {'w_prior': CondMatrixHypercubePrior(\n",
       "     (dists): ModuleList(\n",
       "       (0): CondGaussianDistribution(\n",
       "         (mn_f): SumOfTiledHyperCubeBasisFcns()\n",
       "         (std_f): Sequential(\n",
       "           (0): SumOfTiledHyperCubeBasisFcns()\n",
       "           (1): FixedOffsetExp()\n",
       "         )\n",
       "       )\n",
       "     )\n",
       "   ),\n",
       "   's_in_prior': None,\n",
       "   'b_in_prior': None,\n",
       "   's_out_prior': None,\n",
       "   'b_out_prior': None,\n",
       "   'psi_prior': MatrixGammaProductDistribution(\n",
       "     (dists): ModuleList(\n",
       "       (0): CondGammaDistribution(\n",
       "         (conc_f): IndSmpConstantBoundedFcn(\n",
       "           (f): ConstantBoundedFcn()\n",
       "         )\n",
       "         (rate_f): IndSmpConstantBoundedFcn(\n",
       "           (f): ConstantBoundedFcn()\n",
       "         )\n",
       "       )\n",
       "     )\n",
       "   )},\n",
       "  'epoch': 0,\n",
       "  'total_epoch': 0}]"
      ]
     },
     "execution_count": 45,
     "metadata": {},
     "output_type": "execute_result"
    }
   ],
   "source": [
    "sp_cps"
   ]
  },
  {
   "cell_type": "code",
   "execution_count": null,
   "id": "ace7c8b9",
   "metadata": {},
   "outputs": [],
   "source": []
  },
  {
   "cell_type": "code",
   "execution_count": null,
   "id": "14d632b8",
   "metadata": {},
   "outputs": [],
   "source": []
  }
 ],
 "metadata": {
  "kernelspec": {
   "display_name": "Python 3",
   "language": "python",
   "name": "python3"
  },
  "language_info": {
   "codemirror_mode": {
    "name": "ipython",
    "version": 3
   },
   "file_extension": ".py",
   "mimetype": "text/x-python",
   "name": "python",
   "nbconvert_exporter": "python",
   "pygments_lexer": "ipython3",
   "version": "3.8.8"
  }
 },
 "nbformat": 4,
 "nbformat_minor": 5
}
