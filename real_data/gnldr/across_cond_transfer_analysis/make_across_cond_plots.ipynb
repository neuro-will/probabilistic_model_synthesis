{
 "cells": [
  {
   "cell_type": "markdown",
   "id": "efee1621",
   "metadata": {},
   "source": [
    "A notebook to generate plots from the post processed results of an across condition analysis"
   ]
  },
  {
   "cell_type": "code",
   "execution_count": 1,
   "id": "c8f207ab",
   "metadata": {},
   "outputs": [],
   "source": [
    "%load_ext autoreload\n",
    "%autoreload 2"
   ]
  },
  {
   "cell_type": "code",
   "execution_count": 2,
   "id": "e7476ff1",
   "metadata": {},
   "outputs": [],
   "source": [
    "from pathlib import Path\n",
    "import pickle\n",
    "import re\n",
    "\n",
    "import numpy as np\n",
    "import torch\n",
    "\n",
    "from janelia_core.stats.regression import r_squared"
   ]
  },
  {
   "cell_type": "markdown",
   "id": "a76ae1df",
   "metadata": {},
   "source": [
    "## Parameters go here "
   ]
  },
  {
   "cell_type": "code",
   "execution_count": 3,
   "id": "83e3d1f5",
   "metadata": {},
   "outputs": [],
   "source": [
    "# Top-level directory holding the results\n",
    "base_dir = r'/groups/bishop/bishoplab/projects/probabilistic_model_synthesis/results/real_data/gnldr/across_cond_transfer_analysis/v0'\n",
    "\n",
    "# Name used for all files containing post-processed results\n",
    "pp_file = r'pp_test_results.pt'\n",
    "\n",
    "# Specify the type of models we assess performance for - can be 'sp' or 'ip'\n",
    "mdl_type = 'ip'\n",
    "\n",
    "# Specify conditions we test on \n",
    "test_conds = ['omr_forward', 'omr_right', 'omr_left']\n",
    "\n"
   ]
  },
  {
   "cell_type": "markdown",
   "id": "1d24903d",
   "metadata": {},
   "source": [
    "## Load all results"
   ]
  },
  {
   "cell_type": "code",
   "execution_count": 4,
   "id": "d3c44c89",
   "metadata": {},
   "outputs": [],
   "source": [
    "train_conds = [cond.name for cond in Path(base_dir).iterdir() if cond.is_dir()]\n",
    "test_subjs = np.sort([int(re.search('.*_(\\d+)', subj.name)[1]) \n",
    "                      for subj in (Path(base_dir) / train_conds[0]).iterdir()])"
   ]
  },
  {
   "cell_type": "code",
   "execution_count": 5,
   "id": "f51f6d29",
   "metadata": {},
   "outputs": [],
   "source": [
    "FIT_TYPES = ['single_cond', 'multi_cond']"
   ]
  },
  {
   "cell_type": "code",
   "execution_count": 6,
   "id": "cfeb860a",
   "metadata": {},
   "outputs": [
    {
     "name": "stdout",
     "output_type": "stream",
     "text": [
      "Results for subject 8, train condition: omr_f_ns, fit type: single_cond ***\n",
      "Best CP Ind: 20\n",
      "Results for subject 8, train condition: omr_f_ns, fit type: multi_cond ***\n",
      "Best CP Ind: 20\n",
      "Results for subject 9, train condition: omr_f_ns, fit type: single_cond ***\n",
      "Best CP Ind: 2\n",
      "Results for subject 9, train condition: omr_f_ns, fit type: multi_cond ***\n",
      "Best CP Ind: 14\n",
      "Results for subject 11, train condition: omr_f_ns, fit type: single_cond ***\n",
      "Best CP Ind: 6\n",
      "Results for subject 11, train condition: omr_f_ns, fit type: multi_cond ***\n",
      "Best CP Ind: 7\n",
      "Results for subject 8, train condition: omr_r_ns, fit type: single_cond ***\n",
      "Best CP Ind: 3\n",
      "Results for subject 8, train condition: omr_r_ns, fit type: multi_cond ***\n",
      "Best CP Ind: 20\n",
      "Results for subject 9, train condition: omr_r_ns, fit type: single_cond ***\n",
      "Best CP Ind: 2\n",
      "Results for subject 9, train condition: omr_r_ns, fit type: multi_cond ***\n",
      "Best CP Ind: 7\n",
      "Results for subject 11, train condition: omr_r_ns, fit type: single_cond ***\n",
      "Best CP Ind: 10\n",
      "Results for subject 11, train condition: omr_r_ns, fit type: multi_cond ***\n",
      "Best CP Ind: 6\n",
      "Results for subject 8, train condition: omr_l_ns, fit type: single_cond ***\n",
      "Best CP Ind: 16\n",
      "Results for subject 8, train condition: omr_l_ns, fit type: multi_cond ***\n",
      "Best CP Ind: 20\n",
      "Results for subject 9, train condition: omr_l_ns, fit type: single_cond ***\n",
      "Best CP Ind: 14\n",
      "Results for subject 9, train condition: omr_l_ns, fit type: multi_cond ***\n",
      "Best CP Ind: 8\n",
      "Results for subject 11, train condition: omr_l_ns, fit type: single_cond ***\n",
      "Best CP Ind: 10\n",
      "Results for subject 11, train condition: omr_l_ns, fit type: multi_cond ***\n",
      "Best CP Ind: 2\n"
     ]
    }
   ],
   "source": [
    "rs = dict()\n",
    "for cond in train_conds:\n",
    "    rs[cond] = dict()\n",
    "    for subj in test_subjs:\n",
    "        rs[cond][subj] = dict()\n",
    "        for fit_type in FIT_TYPES:\n",
    "            fit_type_dir = Path(base_dir) / cond / ('subj_' + str(subj)) / fit_type\n",
    "            fit_type_file = fit_type_dir / pp_file\n",
    "            \n",
    "            #with open(fit_type_file, 'rb') as f:\n",
    "            rs[cond][subj][fit_type] = torch.load(fit_type_file)\n",
    "            \n",
    "            # Print some diagonstic information \n",
    "            print('Results for subject ' + str(subj) + ', train condition: ' + cond + \n",
    "                  ', fit type: ' + fit_type + ' ***')\n",
    "            print('Best CP Ind: ' + str(rs[cond][subj][fit_type][mdl_type]['early_stopping']['best_cp_ind']))\n",
    "            \n",
    "      "
   ]
  },
  {
   "cell_type": "markdown",
   "id": "626bcb58",
   "metadata": {},
   "source": [
    "## Now assess test performance "
   ]
  },
  {
   "cell_type": "code",
   "execution_count": 7,
   "id": "50a36f55",
   "metadata": {},
   "outputs": [
    {
     "name": "stdout",
     "output_type": "stream",
     "text": [
      "**** Test Condition: omr_forward ****\n",
      "Subject: 8\n",
      "Single ELBO, Multi ELBO, Delta, Training Condition\n",
      "-7.11E+07, -6.72E+07, 3.91E+06, omr_r_ns\n",
      "-6.64E+07, -6.45E+07, 1.95E+06, omr_l_ns\n",
      "Subject: 9\n",
      "Single ELBO, Multi ELBO, Delta, Training Condition\n",
      "-3.63E+07, -3.45E+07, 1.82E+06, omr_r_ns\n",
      "-3.12E+07, -3.32E+07, -1.99E+06, omr_l_ns\n",
      "Subject: 11\n",
      "Single ELBO, Multi ELBO, Delta, Training Condition\n",
      "-1.78E+07, -1.79E+07, -3.79E+04, omr_r_ns\n",
      "-1.86E+07, -1.83E+07, 3.35E+05, omr_l_ns\n",
      "**** Test Condition: omr_right ****\n",
      "Subject: 8\n",
      "Single ELBO, Multi ELBO, Delta, Training Condition\n",
      "-6.63E+07, -6.54E+07, 9.24E+05, omr_f_ns\n",
      "-8.53E+07, -7.77E+07, 7.63E+06, omr_l_ns\n",
      "Subject: 9\n",
      "Single ELBO, Multi ELBO, Delta, Training Condition\n",
      "-1.89E+07, -1.87E+07, 2.03E+05, omr_f_ns\n",
      "-2.11E+07, -1.99E+07, 1.24E+06, omr_l_ns\n",
      "Subject: 11\n",
      "Single ELBO, Multi ELBO, Delta, Training Condition\n",
      "-2.11E+07, -2.06E+07, 5.78E+05, omr_f_ns\n",
      "-2.34E+07, -2.14E+07, 2.01E+06, omr_l_ns\n",
      "**** Test Condition: omr_left ****\n",
      "Subject: 8\n",
      "Single ELBO, Multi ELBO, Delta, Training Condition\n",
      "-6.08E+07, -5.99E+07, 9.08E+05, omr_f_ns\n",
      "-9.07E+07, -8.03E+07, 1.04E+07, omr_r_ns\n",
      "Subject: 9\n",
      "Single ELBO, Multi ELBO, Delta, Training Condition\n",
      "-1.76E+07, -1.78E+07, -1.53E+05, omr_f_ns\n",
      "-2.40E+07, -2.22E+07, 1.75E+06, omr_r_ns\n",
      "Subject: 11\n",
      "Single ELBO, Multi ELBO, Delta, Training Condition\n",
      "-1.78E+07, -1.76E+07, 1.84E+05, omr_f_ns\n",
      "-2.17E+07, -2.10E+07, 6.57E+05, omr_r_ns\n"
     ]
    }
   ],
   "source": [
    "for ts_i, test_cond in enumerate(test_conds):\n",
    "    print('**** Test Condition: ' + test_cond + ' ****')\n",
    "    for s_i, subj in enumerate(test_subjs):\n",
    "        print('Subject: ' + str(subj))\n",
    "        print('Single ELBO, Multi ELBO, Delta, Training Condition')\n",
    "        for tr_i, train_cond in enumerate(train_conds):\n",
    "            single_period_elbo_vls = rs[train_cond][subj]['single_cond'][mdl_type]['period_elbo_vls'][subj]\n",
    "            multi_period_elbo_vls = rs[train_cond][subj]['multi_cond'][mdl_type]['period_elbo_vls'][subj]\n",
    "            \n",
    "            if single_period_elbo_vls[test_cond] is not None:\n",
    "                single_elbo = single_period_elbo_vls[test_cond]['elbo'].item()\n",
    "                multi_elbo = multi_period_elbo_vls[test_cond]['elbo'].item()\n",
    "                delta_elbo = multi_elbo - single_elbo\n",
    "                print('{:.2E}'.format(single_elbo) + ', ' + '{:.2E}'.format(multi_elbo) + ', ' + \n",
    "                      '{:.2E}'.format(delta_elbo) + ', ' + train_cond)"
   ]
  },
  {
   "cell_type": "markdown",
   "id": "eb429a68",
   "metadata": {},
   "source": [
    "## Debug code goes here "
   ]
  },
  {
   "cell_type": "code",
   "execution_count": null,
   "id": "ce8c7fd7",
   "metadata": {},
   "outputs": [],
   "source": [
    "rs[train_conds[0]][test_subjs[0]]['multi_cond']['fit_ps']"
   ]
  },
  {
   "cell_type": "code",
   "execution_count": null,
   "id": "14c55d81",
   "metadata": {},
   "outputs": [],
   "source": []
  }
 ],
 "metadata": {
  "kernelspec": {
   "display_name": "Python 3",
   "language": "python",
   "name": "python3"
  },
  "language_info": {
   "codemirror_mode": {
    "name": "ipython",
    "version": 3
   },
   "file_extension": ".py",
   "mimetype": "text/x-python",
   "name": "python",
   "nbconvert_exporter": "python",
   "pygments_lexer": "ipython3",
   "version": "3.8.8"
  }
 },
 "nbformat": 4,
 "nbformat_minor": 5
}
