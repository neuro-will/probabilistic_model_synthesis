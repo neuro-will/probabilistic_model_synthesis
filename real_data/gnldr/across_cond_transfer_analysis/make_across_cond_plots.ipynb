{
 "cells": [
  {
   "cell_type": "markdown",
   "id": "efee1621",
   "metadata": {},
   "source": [
    "A notebook to generate plots from the post processed results of an across condition analysis"
   ]
  },
  {
   "cell_type": "code",
   "execution_count": 1,
   "id": "c8f207ab",
   "metadata": {},
   "outputs": [],
   "source": [
    "%load_ext autoreload\n",
    "%autoreload 2"
   ]
  },
  {
   "cell_type": "code",
   "execution_count": 14,
   "id": "e7476ff1",
   "metadata": {},
   "outputs": [],
   "source": [
    "from pathlib import Path\n",
    "import pickle\n",
    "import re\n",
    "\n",
    "import numpy as np\n",
    "import torch\n",
    "\n",
    "from janelia_core.stats.regression import r_squared"
   ]
  },
  {
   "cell_type": "markdown",
   "id": "a76ae1df",
   "metadata": {},
   "source": [
    "## Parameters go here "
   ]
  },
  {
   "cell_type": "code",
   "execution_count": 12,
   "id": "83e3d1f5",
   "metadata": {},
   "outputs": [],
   "source": [
    "# Top-level directory holding the results\n",
    "base_dir = r'/groups/bishop/bishoplab/projects/probabilistic_model_synthesis/results/testing/gnldr/across_cond_results/v1'\n",
    "\n",
    "# Name used for all files containing post-processed results\n",
    "pp_file = r'pp_test_results.pt'\n",
    "\n",
    "# Specify the type of models we assess performance for - can be 'sp' or 'ip'\n",
    "mdl_type = 'ip'\n",
    "\n",
    "# Specify conditions we test on \n",
    "test_conds = ['omr_forward', 'omr_right', 'omr_left']\n",
    "\n"
   ]
  },
  {
   "cell_type": "markdown",
   "id": "1d24903d",
   "metadata": {},
   "source": [
    "## Load all results"
   ]
  },
  {
   "cell_type": "code",
   "execution_count": 5,
   "id": "d3c44c89",
   "metadata": {},
   "outputs": [],
   "source": [
    "train_conds = [cond.name for cond in Path(base_dir).iterdir() if cond.is_dir()]\n",
    "test_subjs = np.sort([int(re.search('.*_(\\d+)', subj.name)[1]) \n",
    "                      for subj in (Path(base_dir) / train_conds[0]).iterdir()])"
   ]
  },
  {
   "cell_type": "code",
   "execution_count": 8,
   "id": "f51f6d29",
   "metadata": {},
   "outputs": [],
   "source": [
    "FIT_TYPES = ['single_cond', 'multi_cond']"
   ]
  },
  {
   "cell_type": "code",
   "execution_count": 13,
   "id": "cfeb860a",
   "metadata": {},
   "outputs": [
    {
     "name": "stdout",
     "output_type": "stream",
     "text": [
      "Results for subject 8, train condition: omr_f_ns, fit type: single_cond ***\n",
      "Best CP Ind: 1\n",
      "Results for subject 8, train condition: omr_f_ns, fit type: multi_cond ***\n",
      "Best CP Ind: 2\n",
      "Results for subject 9, train condition: omr_f_ns, fit type: single_cond ***\n",
      "Best CP Ind: 1\n",
      "Results for subject 9, train condition: omr_f_ns, fit type: multi_cond ***\n",
      "Best CP Ind: 1\n",
      "Results for subject 11, train condition: omr_f_ns, fit type: single_cond ***\n",
      "Best CP Ind: 1\n",
      "Results for subject 11, train condition: omr_f_ns, fit type: multi_cond ***\n",
      "Best CP Ind: 1\n",
      "Results for subject 8, train condition: omr_r_ns, fit type: single_cond ***\n",
      "Best CP Ind: 1\n",
      "Results for subject 8, train condition: omr_r_ns, fit type: multi_cond ***\n",
      "Best CP Ind: 2\n",
      "Results for subject 9, train condition: omr_r_ns, fit type: single_cond ***\n",
      "Best CP Ind: 1\n",
      "Results for subject 9, train condition: omr_r_ns, fit type: multi_cond ***\n",
      "Best CP Ind: 1\n",
      "Results for subject 11, train condition: omr_r_ns, fit type: single_cond ***\n",
      "Best CP Ind: 1\n",
      "Results for subject 11, train condition: omr_r_ns, fit type: multi_cond ***\n",
      "Best CP Ind: 1\n",
      "Results for subject 8, train condition: omr_l_ns, fit type: single_cond ***\n",
      "Best CP Ind: 2\n",
      "Results for subject 8, train condition: omr_l_ns, fit type: multi_cond ***\n",
      "Best CP Ind: 2\n",
      "Results for subject 9, train condition: omr_l_ns, fit type: single_cond ***\n",
      "Best CP Ind: 1\n",
      "Results for subject 9, train condition: omr_l_ns, fit type: multi_cond ***\n",
      "Best CP Ind: 1\n",
      "Results for subject 11, train condition: omr_l_ns, fit type: single_cond ***\n",
      "Best CP Ind: 1\n",
      "Results for subject 11, train condition: omr_l_ns, fit type: multi_cond ***\n",
      "Best CP Ind: 1\n"
     ]
    }
   ],
   "source": [
    "rs = dict()\n",
    "for cond in train_conds:\n",
    "    rs[cond] = dict()\n",
    "    for subj in test_subjs:\n",
    "        rs[cond][subj] = dict()\n",
    "        for fit_type in FIT_TYPES:\n",
    "            fit_type_dir = Path(base_dir) / cond / ('subj_' + str(subj)) / fit_type\n",
    "            fit_type_file = fit_type_dir / pp_file\n",
    "            \n",
    "            #with open(fit_type_file, 'rb') as f:\n",
    "            rs[cond][subj][fit_type] = torch.load(fit_type_file)\n",
    "            \n",
    "            # Print some diagonstic information \n",
    "            print('Results for subject ' + str(subj) + ', train condition: ' + cond + \n",
    "                  ', fit type: ' + fit_type + ' ***')\n",
    "            print('Best CP Ind: ' + str(rs[cond][subj][fit_type][mdl_type]['early_stopping']['best_cp_ind']))\n",
    "            \n",
    "      "
   ]
  },
  {
   "cell_type": "markdown",
   "id": "626bcb58",
   "metadata": {},
   "source": [
    "## Now assess test performance "
   ]
  },
  {
   "cell_type": "code",
   "execution_count": 52,
   "id": "50a36f55",
   "metadata": {},
   "outputs": [
    {
     "name": "stdout",
     "output_type": "stream",
     "text": [
      "**** Test Condition: omr_forward ****\n",
      "Subject: 8\n",
      "Single ELBO, Multi ELBO, Delta, Training Condition\n",
      "-7.13E+07, -6.72E+07, 4.16E+06, omr_r_ns\n",
      "-6.73E+07, -6.52E+07, 2.06E+06, omr_l_ns\n",
      "Subject: 9\n",
      "Single ELBO, Multi ELBO, Delta, Training Condition\n",
      "-3.81E+07, -3.56E+07, 2.48E+06, omr_r_ns\n",
      "-3.17E+07, -3.40E+07, -2.24E+06, omr_l_ns\n",
      "Subject: 11\n",
      "Single ELBO, Multi ELBO, Delta, Training Condition\n",
      "-1.81E+07, -1.81E+07, 5.59E+04, omr_r_ns\n",
      "-1.89E+07, -1.88E+07, 5.57E+04, omr_l_ns\n",
      "**** Test Condition: omr_right ****\n",
      "Subject: 8\n",
      "Single ELBO, Multi ELBO, Delta, Training Condition\n",
      "-6.65E+07, -6.74E+07, -8.37E+05, omr_f_ns\n",
      "-8.78E+07, -7.99E+07, 7.91E+06, omr_l_ns\n",
      "Subject: 9\n",
      "Single ELBO, Multi ELBO, Delta, Training Condition\n",
      "-1.94E+07, -1.87E+07, 6.52E+05, omr_f_ns\n",
      "-2.16E+07, -2.04E+07, 1.21E+06, omr_l_ns\n",
      "Subject: 11\n",
      "Single ELBO, Multi ELBO, Delta, Training Condition\n",
      "-2.17E+07, -2.12E+07, 5.19E+05, omr_f_ns\n",
      "-2.40E+07, -2.22E+07, 1.80E+06, omr_l_ns\n",
      "**** Test Condition: omr_left ****\n",
      "Subject: 8\n",
      "Single ELBO, Multi ELBO, Delta, Training Condition\n",
      "-6.13E+07, -6.18E+07, -5.38E+05, omr_f_ns\n",
      "-9.20E+07, -8.07E+07, 1.13E+07, omr_r_ns\n",
      "Subject: 9\n",
      "Single ELBO, Multi ELBO, Delta, Training Condition\n",
      "-1.79E+07, -1.77E+07, 1.98E+05, omr_f_ns\n",
      "-2.45E+07, -2.33E+07, 1.24E+06, omr_r_ns\n",
      "Subject: 11\n",
      "Single ELBO, Multi ELBO, Delta, Training Condition\n",
      "-1.80E+07, -1.80E+07, -1.66E+04, omr_f_ns\n",
      "-2.19E+07, -2.13E+07, 6.45E+05, omr_r_ns\n"
     ]
    }
   ],
   "source": [
    "for ts_i, test_cond in enumerate(test_conds):\n",
    "    print('**** Test Condition: ' + test_cond + ' ****')\n",
    "    for s_i, subj in enumerate(test_subjs):\n",
    "        print('Subject: ' + str(subj))\n",
    "        print('Single ELBO, Multi ELBO, Delta, Training Condition')\n",
    "        for tr_i, train_cond in enumerate(train_conds):\n",
    "            single_period_elbo_vls = rs[train_cond][subj]['single_cond'][mdl_type]['period_elbo_vls'][subj]\n",
    "            multi_period_elbo_vls = rs[train_cond][subj]['multi_cond'][mdl_type]['period_elbo_vls'][subj]\n",
    "            \n",
    "            if single_period_elbo_vls[test_cond] is not None:\n",
    "                single_elbo = single_period_elbo_vls[test_cond]['elbo'].item()\n",
    "                multi_elbo = multi_period_elbo_vls[test_cond]['elbo'].item()\n",
    "                delta_elbo = multi_elbo - single_elbo\n",
    "                print('{:.2E}'.format(single_elbo) + ', ' + '{:.2E}'.format(multi_elbo) + ', ' + \n",
    "                      '{:.2E}'.format(delta_elbo) + ', ' + train_cond)"
   ]
  },
  {
   "cell_type": "markdown",
   "id": "eb429a68",
   "metadata": {},
   "source": [
    "## Debug code goes here "
   ]
  },
  {
   "cell_type": "code",
   "execution_count": 54,
   "id": "ce8c7fd7",
   "metadata": {},
   "outputs": [
    {
     "data": {
      "text/plain": [
       "{'note': 'Initial testing.',\n",
       " 'param_filename': 'transfer_params.pkl',\n",
       " 'param_save_dir': '/groups/bishop/bishoplab/projects/probabilistic_model_synthesis/results/testing/gnldr/across_cond_results/v1',\n",
       " 'results_dir': '/groups/bishop/bishoplab/projects/probabilistic_model_synthesis/results/testing/gnldr/across_cond_results/v1/omr_f_ns/subj_8/multi_cond',\n",
       " 'save_file': 'test_results.pt',\n",
       " 'sp_cp_dir': '/groups/bishop/bishoplab/projects/probabilistic_model_synthesis/results/testing/gnldr/across_cond_results/v1/omr_f_ns/subj_8/multi_cond/sp_cp',\n",
       " 'ip_cp_dir': '/groups/bishop/bishoplab/projects/probabilistic_model_synthesis/results/testing/gnldr/across_cond_results/v1/omr_f_ns/subj_8/multi_cond/ip_cp',\n",
       " 'data_dir': '/groups/bishop/bishoplab/projects/ahrens_wbo/data',\n",
       " 'segment_table_dir': '/groups/bishop/bishoplab/projects/probabilistic_model_synthesis/results/real_data',\n",
       " 'segment_table_file': 'omr_l_r_f_ns_across_cond_segments_8_9_10_11.pkl',\n",
       " 'fold_str_dir': '/groups/bishop/bishoplab/projects/probabilistic_model_synthesis/results/real_data',\n",
       " 'fold_str_file': 'ac_an_tgt_8_multi_cond_folds.pkl',\n",
       " 'fold': 'omr_f_ns',\n",
       " 'neural_gain': 10,\n",
       " 'z_ratio': 2.5,\n",
       " 'roi_dim_ranges': array([[   0., 1407.],\n",
       "        [   0.,  622.],\n",
       "        [   0.,  343.]]),\n",
       " 'mdl_opts': {'n_latent_vars': 10,\n",
       "  'prior_opts': {'hc_params': {'n_divisions_per_dim': [140, 50, 20],\n",
       "    'dim_ranges': array([[   0., 1407.],\n",
       "           [   0.,  622.],\n",
       "           [   0.,  343.]]),\n",
       "    'n_div_per_hc_side_per_dim': [1, 1, 1]},\n",
       "   'min_gaussian_std': 0.01,\n",
       "   'min_gamma_conc_vl': 1.0,\n",
       "   'min_gamma_rate_vl': 0.01,\n",
       "   'lm_mn_init': 0.0,\n",
       "   'lm_std_init': 0.1,\n",
       "   'mn_mn_init': 0.0,\n",
       "   'mn_std_init': 0.1,\n",
       "   'psi_conc_vl_init': 10.0,\n",
       "   'psi_rate_vl_init': 10.0,\n",
       "   'learnable_stds': True,\n",
       "   's_mn': 1.0,\n",
       "   's_std': 0.0001},\n",
       "  'post_opts': {'lm_opts': {'mn_mn': 1.0,\n",
       "    'mn_std': 1e-08,\n",
       "    'std_lb': 1e-05,\n",
       "    'std_ub': 10.0,\n",
       "    'std_iv': 0.0001},\n",
       "   'mn_opts': {'mn_mn': 1.0,\n",
       "    'mn_std': 1e-08,\n",
       "    'std_lb': 1e-05,\n",
       "    'std_ub': 10.0,\n",
       "    'std_iv': 0.0001},\n",
       "   'psi_opts': {'alpha_lb': 1.0,\n",
       "    'alpha_iv': 5.0,\n",
       "    'beta_lb': 1e-05,\n",
       "    'beta_iv': 5.0},\n",
       "   's_opts': {'mn_mn': 1.0,\n",
       "    'mn_std': 1e-08,\n",
       "    'std_lb': 1e-05,\n",
       "    'std_ub': 10.0,\n",
       "    'std_iv': 0.0001}},\n",
       "  'sp_fit_opts': [{'n_epochs': 1000,\n",
       "    'milestones': [500],\n",
       "    'update_int': 100,\n",
       "    'init_lr': 0.1,\n",
       "    'cp_epochs': [0, 100, 200, 300, 400, 500, 600, 700, 800, 900, 999],\n",
       "    'cp_save_folder': '/groups/bishop/bishoplab/projects/probabilistic_model_synthesis/results/testing/gnldr/across_cond_results/v1/omr_f_ns/subj_8/multi_cond/sp_cp',\n",
       "    'cp_save_str': 'rnd_0_'}],\n",
       "  'ip_fit_opts': [{'n_epochs': 2000,\n",
       "    'milestones': [500],\n",
       "    'update_int': 100,\n",
       "    'init_lr': 0.01,\n",
       "    'cp_epochs': [0,\n",
       "     100,\n",
       "     200,\n",
       "     300,\n",
       "     400,\n",
       "     500,\n",
       "     600,\n",
       "     700,\n",
       "     800,\n",
       "     900,\n",
       "     1000,\n",
       "     1100,\n",
       "     1200,\n",
       "     1300,\n",
       "     1400,\n",
       "     1500,\n",
       "     1600,\n",
       "     1700,\n",
       "     1800,\n",
       "     1900,\n",
       "     1999],\n",
       "    'cp_save_folder': '/groups/bishop/bishoplab/projects/probabilistic_model_synthesis/results/testing/gnldr/across_cond_results/v1/omr_f_ns/subj_8/multi_cond/ip_cp',\n",
       "    'cp_save_str': 'rnd_0_'}]},\n",
       " 'subject_filter': None}"
      ]
     },
     "execution_count": 54,
     "metadata": {},
     "output_type": "execute_result"
    }
   ],
   "source": [
    "rs[train_conds[0]][test_subjs[0]]['multi_cond']['fit_ps']"
   ]
  },
  {
   "cell_type": "code",
   "execution_count": null,
   "id": "14c55d81",
   "metadata": {},
   "outputs": [],
   "source": []
  }
 ],
 "metadata": {
  "kernelspec": {
   "display_name": "Python 3",
   "language": "python",
   "name": "python3"
  },
  "language_info": {
   "codemirror_mode": {
    "name": "ipython",
    "version": 3
   },
   "file_extension": ".py",
   "mimetype": "text/x-python",
   "name": "python",
   "nbconvert_exporter": "python",
   "pygments_lexer": "ipython3",
   "version": "3.8.8"
  }
 },
 "nbformat": 4,
 "nbformat_minor": 5
}
