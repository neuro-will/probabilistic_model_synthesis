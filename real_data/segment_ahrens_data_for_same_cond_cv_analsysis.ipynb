{
 "cells": [
  {
   "cell_type": "markdown",
   "metadata": {},
   "source": [
    "## Segments data for for fitting models to the same behavior across fish.  Here we break data up into a given number of disjoint sets that can later be combined to form train, validation and test sets.  \n",
    "\n",
    "We have in mind applications where we do cross-validation, but cross validation is performed in a non-standard way.  In particular, \n",
    "\n",
    "1) We break the data up into T disjoint folds for testing. \n",
    "\n",
    "2) However, unlike standard cross validation, all of the data which is not in the testing data for a fold, may or may not be used for training and validation.  The reason for this is that we want to look at model performance as the amount of data used for training and validation changes.  For this reason, only some of the data not used for testing may be used for training and validation. \n",
    "\n",
    "To facilitate (1) and (2) above, the idea is the user will specifiy a number of disjoint \"sets\" (e.g., 42) to break the data for a subject into.  Each set will be roughly balanced in the different types of behaviors that are present as well as swim vigor.  At model fitting time, the user can then form the sets into largers test sets for cross validation, and use a subset of the remaining sets for training. \n"
   ]
  },
  {
   "cell_type": "code",
   "execution_count": 1,
   "metadata": {},
   "outputs": [],
   "source": [
    "%load_ext autoreload\n",
    "%autoreload 2"
   ]
  },
  {
   "cell_type": "code",
   "execution_count": 2,
   "metadata": {},
   "outputs": [],
   "source": [
    "from collections import OrderedDict\n",
    "from pathlib import Path\n",
    "import pickle\n",
    "\n",
    "import numpy as np\n",
    "\n",
    "from ahrens_wbo.annotations import label_periods\n",
    "from ahrens_wbo.data_processing import SegmentTable\n",
    "from ahrens_wbo.data_processing import segment_dataset\n",
    "from ahrens_wbo.raw_data_processing import load_processed_data"
   ]
  },
  {
   "cell_type": "markdown",
   "metadata": {},
   "source": [
    "## Parameters go here"
   ]
  },
  {
   "cell_type": "code",
   "execution_count": 3,
   "metadata": {},
   "outputs": [],
   "source": [
    "ps = dict()\n",
    "ps['data_dir'] = r'/groups/bishop/bishoplab/projects/ahrens_wbo/data'\n",
    "\n",
    "# Specify subjects\n",
    "ps['subjects'] =  [1, 2, 5, 6, 8, 9, 10, 11]\n",
    "\n",
    "# Specify the number of sets we form\n",
    "ps['n_sets'] = 42\n",
    "\n",
    "# Specify size of chunks data up into - we form sets out of chunks\n",
    "ps['chunk_size'] = 5\n",
    "\n",
    "# Specify which behavioral channels we will use for calculating values to associate with each sample point\n",
    "ps['value_chs'] = [3, 4]\n",
    "\n",
    "# Specify how we will group the data\n",
    "ps['groups'] = OrderedDict([('phototaxis_ns', [{'period': 'phototaxis', 'shock': False}])])\n",
    "                                                                                                          \n",
    "# Specify value function\n",
    "ps['value_fnc'] = 'max'\n",
    "ps['random_vl_assignment'] = True\n",
    "    \n",
    "# Specify where we should save the segment information\n",
    "ps['save_folder'] = r'/groups/bishop/bishoplab/projects/probabilistic_model_synthesis/results/real_data/test'\n",
    "ps['save_name'] = r'phototaxis_ns_subjects_1_2_5_6_8_9_10_11_v2.pkl'"
   ]
  },
  {
   "cell_type": "code",
   "execution_count": 4,
   "metadata": {},
   "outputs": [],
   "source": [
    "# Specify segment ratios\n",
    "ps['segment_labels'] = ['set_' + str(i) for i in range(ps['n_sets'])]\n",
    "ps['segment_ratios'] = [1]*ps['n_sets']"
   ]
  },
  {
   "cell_type": "markdown",
   "metadata": {},
   "source": [
    "## Get list of labels for each dataset and swim values "
   ]
  },
  {
   "cell_type": "code",
   "execution_count": 5,
   "metadata": {},
   "outputs": [
    {
     "name": "stdout",
     "output_type": "stream",
     "text": [
      "Done loading subject 1\n",
      "Done loading subject 2\n",
      "Done loading subject 5\n",
      "Done loading subject 6\n",
      "Done loading subject 8\n",
      "Done loading subject 9\n",
      "Done loading subject 10\n",
      "Done loading subject 11\n"
     ]
    }
   ],
   "source": [
    "n_subjects = len(ps['subjects'])\n",
    "labels = dict()\n",
    "values = dict()\n",
    "for subject_id in ps['subjects']:\n",
    "    dataset = load_processed_data(Path(ps['data_dir']) / ('subject_' + str(subject_id)), subject_id)\n",
    "    labels[subject_id] = label_periods(dataset.ts_data['stim']['vls'][:])\n",
    "    values[subject_id] = dataset.ts_data['behavior']['vls'][:, ps['value_chs']]\n",
    "    print('Done loading subject ' + str(subject_id))"
   ]
  },
  {
   "cell_type": "markdown",
   "metadata": {},
   "source": [
    "## Segment datasets"
   ]
  },
  {
   "cell_type": "code",
   "execution_count": 6,
   "metadata": {},
   "outputs": [],
   "source": [
    "if ps['value_fnc'] == 'mean':\n",
    "    value_fnc = lambda x: np.mean(x)\n",
    "elif ps['value_fnc'] == 'max':\n",
    "    value_fnc = lambda x: np.max(x)\n",
    "else:\n",
    "    raise(ValueError('value_fcn is not recogonized'))"
   ]
  },
  {
   "cell_type": "code",
   "execution_count": 7,
   "metadata": {},
   "outputs": [],
   "source": [
    "segment_tables = OrderedDict()\n",
    "for s_n in ps['subjects']:\n",
    "    subj_values = np.mean(values[s_n], axis=1)\n",
    "    segment_tables[s_n] = segment_dataset(period_lbls=labels[s_n], groups=ps['groups'], \n",
    "                                               chunk_size=ps['chunk_size'],\n",
    "                                               segment_labels=ps['segment_labels'], \n",
    "                                               segment_ratios=ps['segment_ratios'], \n",
    "                                               vls=subj_values, vl_fnc=value_fnc, \n",
    "                                               random_vl_assignment=ps['random_vl_assignment'])"
   ]
  },
  {
   "cell_type": "markdown",
   "metadata": {},
   "source": [
    "## Save the segment tables"
   ]
  },
  {
   "cell_type": "code",
   "execution_count": null,
   "metadata": {},
   "outputs": [],
   "source": [
    "for s_n in ps['subjects']:\n",
    "    segment_tables[s_n] = segment_tables[s_n].to_dict()"
   ]
  },
  {
   "cell_type": "code",
   "execution_count": null,
   "metadata": {},
   "outputs": [],
   "source": [
    "save_path = Path(Path(ps['save_folder']) / ps['save_name'])\n",
    "rs = {'ps': ps, 'segment_tables': segment_tables}\n",
    "with open(save_path, 'wb') as f:\n",
    "    pickle.dump(rs, f)"
   ]
  },
  {
   "cell_type": "code",
   "execution_count": null,
   "metadata": {},
   "outputs": [],
   "source": [
    "print('Segment tables saved to: ' + str(save_path))"
   ]
  },
  {
   "cell_type": "markdown",
   "metadata": {},
   "source": [
    "## See how well we do at balanancing swim power across segments"
   ]
  },
  {
   "cell_type": "code",
   "execution_count": 36,
   "metadata": {},
   "outputs": [],
   "source": [
    "exam_n = 8"
   ]
  },
  {
   "cell_type": "code",
   "execution_count": 37,
   "metadata": {},
   "outputs": [],
   "source": [
    "seg_swim_pwrs = [None]*ps['n_sets']\n",
    "for seg_i in range(ps['n_sets']):\n",
    "    seg_slices = segment_tables[exam_n][seg_i,0]\n",
    "    vls = np.concatenate([values[exam_n][sl] for sl in seg_slices[0]], axis=0)\n",
    "    seg_swim_pwrs[seg_i] = np.max(np.mean(vls, axis=1))"
   ]
  },
  {
   "cell_type": "code",
   "execution_count": 38,
   "metadata": {},
   "outputs": [
    {
     "data": {
      "text/plain": [
       "[0.019789690734664894,\n",
       " 0.033584836262568106,\n",
       " 0.025927217038778587,\n",
       " 0.01984806289128403,\n",
       " 0.01983700824924846,\n",
       " 0.020777670366823674,\n",
       " 0.020133711390228536,\n",
       " 0.038272818034547684,\n",
       " 0.02108929089657057,\n",
       " 0.022075550491371554,\n",
       " 0.021583246568433072,\n",
       " 0.021800213922492942,\n",
       " 0.026887643091081083,\n",
       " 0.021457800079338,\n",
       " 0.019240997893000485,\n",
       " 0.020709843019661667,\n",
       " 0.02096327775976564,\n",
       " 0.023335845226388624,\n",
       " 0.022234358710458403,\n",
       " 0.019819463343901084,\n",
       " 0.03357723715186776,\n",
       " 0.020209686057343842,\n",
       " 0.025069269237346353,\n",
       " 0.019162007670167763,\n",
       " 0.02619766998750133,\n",
       " 0.021684584278224887,\n",
       " 0.030962954299062755,\n",
       " 0.02055123669456168,\n",
       " 0.028321388865398558,\n",
       " 0.023896258523821844,\n",
       " 0.026469995733375044,\n",
       " 0.022806056573509606,\n",
       " 0.022036075375063514,\n",
       " 0.02248761314478357,\n",
       " 0.02356472685575202,\n",
       " 0.023314476775230283,\n",
       " 0.0191706043249908,\n",
       " 0.021160490316178816,\n",
       " 0.02018661433042453,\n",
       " 0.020551652168782696,\n",
       " 0.02343294907710876,\n",
       " 0.022360634946726594]"
      ]
     },
     "execution_count": 38,
     "metadata": {},
     "output_type": "execute_result"
    }
   ],
   "source": [
    "seg_swim_pwrs"
   ]
  },
  {
   "cell_type": "code",
   "execution_count": 35,
   "metadata": {},
   "outputs": [
    {
     "data": {
      "text/plain": [
       "array([[0.00384149, 0.00963995],\n",
       "       [0.0069076 , 0.01241273],\n",
       "       [0.00568608, 0.01151375],\n",
       "       [0.0044549 , 0.00928289],\n",
       "       [0.00538121, 0.01630744],\n",
       "       [0.00497949, 0.01224829],\n",
       "       [0.00465924, 0.00963736],\n",
       "       [0.004126  , 0.00789794],\n",
       "       [0.00467964, 0.00875953],\n",
       "       [0.00427681, 0.0088288 ],\n",
       "       [0.00373656, 0.00665289],\n",
       "       [0.00322696, 0.01117284],\n",
       "       [0.00403889, 0.00778163],\n",
       "       [0.00442213, 0.00983998],\n",
       "       [0.00436859, 0.01164775],\n",
       "       [0.00243455, 0.00435148],\n",
       "       [0.00372533, 0.00734628],\n",
       "       [0.00398055, 0.01100005],\n",
       "       [0.00388126, 0.00541279],\n",
       "       [0.00228121, 0.00601795]])"
      ]
     },
     "execution_count": 35,
     "metadata": {},
     "output_type": "execute_result"
    }
   ],
   "source": [
    "vls"
   ]
  },
  {
   "cell_type": "code",
   "execution_count": null,
   "metadata": {},
   "outputs": [],
   "source": []
  }
 ],
 "metadata": {
  "kernelspec": {
   "display_name": "Python 3",
   "language": "python",
   "name": "python3"
  },
  "language_info": {
   "codemirror_mode": {
    "name": "ipython",
    "version": 3
   },
   "file_extension": ".py",
   "mimetype": "text/x-python",
   "name": "python",
   "nbconvert_exporter": "python",
   "pygments_lexer": "ipython3",
   "version": "3.8.8"
  }
 },
 "nbformat": 4,
 "nbformat_minor": 2
}
