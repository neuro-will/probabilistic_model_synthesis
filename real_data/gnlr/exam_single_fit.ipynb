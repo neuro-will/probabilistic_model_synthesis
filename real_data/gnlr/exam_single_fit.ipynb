{
 "cells": [
  {
   "cell_type": "markdown",
   "id": "15ca540e",
   "metadata": {},
   "source": [
    "A notebook for looking at the results of one run of syn_ahrens_gnlr_mdls"
   ]
  },
  {
   "cell_type": "code",
   "execution_count": 1,
   "id": "9c1bff90",
   "metadata": {},
   "outputs": [],
   "source": [
    "%load_ext autoreload\n",
    "%autoreload 2"
   ]
  },
  {
   "cell_type": "code",
   "execution_count": 2,
   "id": "f99924ce",
   "metadata": {},
   "outputs": [],
   "source": [
    "import glob\n",
    "import pathlib\n",
    "import pickle\n",
    "\n",
    "import matplotlib.pyplot as plt\n",
    "import numpy as np\n",
    "import torch\n",
    "\n",
    "from ahrens_wbo.data_processing import generate_torch_dataset\n",
    "from ahrens_wbo.data_processing import load_and_preprocess_data\n",
    "from ahrens_wbo.data_processing import SegmentTable\n",
    "from janelia_core.stats.regression import r_squared\n",
    "from probabilistic_model_synthesis.gaussian_nonlinear_regression import predict\n",
    "from probabilistic_model_synthesis.gaussian_nonlinear_regression import Fitter\n",
    "from probabilistic_model_synthesis.gaussian_nonlinear_regression import PriorCollection\n",
    "from probabilistic_model_synthesis.gaussian_nonlinear_regression import VICollection"
   ]
  },
  {
   "cell_type": "code",
   "execution_count": 3,
   "id": "8fd9879f",
   "metadata": {},
   "outputs": [],
   "source": [
    "%matplotlib notebook"
   ]
  },
  {
   "cell_type": "markdown",
   "id": "7b75adfc",
   "metadata": {},
   "source": [
    "## Parameters go here"
   ]
  },
  {
   "cell_type": "code",
   "execution_count": 4,
   "id": "2d9e6e7d",
   "metadata": {},
   "outputs": [],
   "source": [
    "ps = dict()\n",
    "\n",
    "# Specify the location of results\n",
    "ps['results_dir'] = r'/groups/bishop/bishoplab/projects/probabilistic_model_synthesis/results/real_data/gnlr/same_cond_transfer_analysis/v18/fold_str_base_14_tgt_14/fold_1/subj_11/comb'\n",
    "ps['results_file'] = r'test_results.pt'\n",
    "\n",
    "# Specify if we want to look at sp or ip fits\n",
    "ps['mdl_type'] = 'ip'\n",
    "\n",
    "# Specify the subjects we use for validation across check points\n",
    "ps['validation_subjects'] = [11]\n",
    "\n",
    "# Specify if we use retrospective early stopping based on validation performance across check points\n",
    "ps['use_early_stopping'] = True\n",
    "\n"
   ]
  },
  {
   "cell_type": "markdown",
   "id": "29b5e0f1",
   "metadata": {},
   "source": [
    "## Load the results"
   ]
  },
  {
   "cell_type": "code",
   "execution_count": 5,
   "id": "601a7ee8",
   "metadata": {},
   "outputs": [],
   "source": [
    "rs_path = pathlib.Path(ps['results_dir']) / ps['results_file']\n",
    "rs = torch.load(rs_path)"
   ]
  },
  {
   "cell_type": "code",
   "execution_count": 6,
   "id": "9d5e0cfa",
   "metadata": {},
   "outputs": [],
   "source": [
    "fit_rs = rs['rs'][ps['mdl_type']] \n",
    "fit_ps = rs['ps']\n",
    "subject_order = rs['subject_order']\n",
    "fold = fit_ps['fold']"
   ]
  },
  {
   "cell_type": "code",
   "execution_count": 7,
   "id": "476d86e9",
   "metadata": {},
   "outputs": [
    {
     "data": {
      "text/plain": [
       "{'note': 'Initial testing.',\n",
       " 'param_filename': 'transfer_params.pkl',\n",
       " 'param_save_dir': '/groups/bishop/bishoplab/projects/probabilistic_model_synthesis/results/real_data/gnlr/same_cond_transfer_analysis/v18',\n",
       " 'results_dir': '/groups/bishop/bishoplab/projects/probabilistic_model_synthesis/results/real_data/gnlr/same_cond_transfer_analysis/v18/fold_str_base_14_tgt_14/fold_1/subj_11/comb',\n",
       " 'save_file': 'test_results.pt',\n",
       " 'sp_cp_dir': '/groups/bishop/bishoplab/projects/probabilistic_model_synthesis/results/real_data/gnlr/same_cond_transfer_analysis/v18/fold_str_base_14_tgt_14/fold_1/subj_11/comb/sp_cp',\n",
       " 'ip_cp_dir': '/groups/bishop/bishoplab/projects/probabilistic_model_synthesis/results/real_data/gnlr/same_cond_transfer_analysis/v18/fold_str_base_14_tgt_14/fold_1/subj_11/comb/ip_cp',\n",
       " 'data_dir': '/groups/bishop/bishoplab/projects/ahrens_wbo/data',\n",
       " 'segment_table_dir': '/groups/bishop/bishoplab/projects/probabilistic_model_synthesis/results/real_data',\n",
       " 'segment_table_file': 'phototaxis_ns_subjects_1_2_5_6_8_9_10_11.pkl',\n",
       " 'fold_str_dir': '/groups/bishop/bishoplab/projects/probabilistic_model_synthesis/results/real_data',\n",
       " 'fold_str_file': 'fold_str_base_14_tgt_14.pkl',\n",
       " 'fold': 1,\n",
       " 'keep_beh_vars': [3, 4],\n",
       " 'normalize_beh_vars': True,\n",
       " 'neural_gain': 10000,\n",
       " 'beh_gain': 100,\n",
       " 'z_ratio': 2.5,\n",
       " 'roi_dim_ranges': array([[   0., 1407.],\n",
       "        [   0.,  622.],\n",
       "        [   0.,  343.]]),\n",
       " 'mdl_opts': {'p': 10,\n",
       "  'w_prior_opts': {'mn_hc_params': {'n_divisions_per_dim': [140, 50, 20],\n",
       "    'dim_ranges': array([[   0., 1407.],\n",
       "           [   0.,  622.],\n",
       "           [   0.,  343.]]),\n",
       "    'n_div_per_hc_side_per_dim': [1, 1, 1]},\n",
       "   'std_hc_params': {'n_divisions_per_dim': [140, 50, 20],\n",
       "    'dim_ranges': array([[   0., 1407.],\n",
       "           [   0.,  622.],\n",
       "           [   0.,  343.]]),\n",
       "    'n_div_per_hc_side_per_dim': [1, 1, 1]},\n",
       "   'min_std': 0.001,\n",
       "   'mn_init': 0.0,\n",
       "   'std_init': 0.01},\n",
       "  's_in_prior_opts': {'mn_mn': 0.001,\n",
       "   'mn_std': 1e-08,\n",
       "   'std_lb': 1e-08,\n",
       "   'std_ub': 1e-05,\n",
       "   'std_iv': 1e-06},\n",
       "  'b_in_prior_opts': {'mn_mn': 0.0,\n",
       "   'mn_std': 1e-08,\n",
       "   'std_lb': 1e-08,\n",
       "   'std_ub': 1e-05,\n",
       "   'std_iv': 1e-06},\n",
       "  's_out_prior_opts': {'mn_mn': 1.0,\n",
       "   'mn_std': 1e-08,\n",
       "   'std_lb': 1e-06,\n",
       "   'std_ub': 1.0,\n",
       "   'std_iv': 0.0001},\n",
       "  'b_out_prior_opts': {'mn_mn': 0.0,\n",
       "   'mn_std': 1e-08,\n",
       "   'std_lb': 1e-06,\n",
       "   'std_ub': 1.0,\n",
       "   'std_iv': 0.0001},\n",
       "  'psi_prior_opts': {'conc_lb': 1.0,\n",
       "   'conc_ub': 1000.0,\n",
       "   'conc_iv': 10.0,\n",
       "   'rate_lb': 0.001,\n",
       "   'rate_ub': 1000.0,\n",
       "   'rate_iv': 10.0},\n",
       "  's_in_post_opts': {'mn_mn': 0.001,\n",
       "   'mn_std': 1e-08,\n",
       "   'std_lb': 1e-08,\n",
       "   'std_ub': 1e-05,\n",
       "   'std_iv': 1e-06},\n",
       "  'b_in_post_opts': {'mn_mn': 0.0,\n",
       "   'mn_std': 1e-08,\n",
       "   'std_lb': 1e-08,\n",
       "   'std_ub': 1e-05,\n",
       "   'std_iv': 1e-06},\n",
       "  's_out_post_opts': {'mn_mn': 1.0,\n",
       "   'mn_std': 1e-08,\n",
       "   'std_lb': 1e-06,\n",
       "   'std_ub': 1.0,\n",
       "   'std_iv': 0.0001},\n",
       "  'b_out_post_opts': {'mn_mn': 0.0,\n",
       "   'mn_std': 1e-08,\n",
       "   'std_lb': 1e-06,\n",
       "   'std_ub': 1.0,\n",
       "   'std_iv': 0.0001},\n",
       "  'psi_post_opts': {'conc_lb': 1.0,\n",
       "   'conc_ub': 1000.0,\n",
       "   'conc_iv': 10.0,\n",
       "   'rate_lb': 0.001,\n",
       "   'rate_ub': 1000.0,\n",
       "   'rate_iv': 10.0},\n",
       "  'dense_net_opts': {'n_layers': 5, 'growth_rate': 5, 'bias': True},\n",
       "  'sp_fit_opts': [{'n_epochs': 1000,\n",
       "    'n_batches': 2,\n",
       "    'init_lr': 0.0001,\n",
       "    'milestones': [500],\n",
       "    'gamma': 0.1,\n",
       "    'update_int': 100,\n",
       "    'cp_epochs': [0, 500, 999],\n",
       "    'cp_save_folder': '/groups/bishop/bishoplab/projects/probabilistic_model_synthesis/results/real_data/gnlr/same_cond_transfer_analysis/v18/fold_str_base_14_tgt_14/fold_1/subj_11/comb/sp_cp',\n",
       "    'cp_save_str': 'rnd_0_'}],\n",
       "  'ip_fit_opts': [{'n_epochs': 20000,\n",
       "    'n_batches': 2,\n",
       "    'init_lr': 1e-05,\n",
       "    'milestones': [10000],\n",
       "    'gamma': 0.1,\n",
       "    'update_int': 100,\n",
       "    'cp_epochs': [0,\n",
       "     500,\n",
       "     1000,\n",
       "     1500,\n",
       "     2000,\n",
       "     2500,\n",
       "     3000,\n",
       "     3500,\n",
       "     4000,\n",
       "     4500,\n",
       "     5000,\n",
       "     5500,\n",
       "     6000,\n",
       "     6500,\n",
       "     7000,\n",
       "     7500,\n",
       "     8000,\n",
       "     8500,\n",
       "     9000,\n",
       "     9500,\n",
       "     10000,\n",
       "     10500,\n",
       "     11000,\n",
       "     11500,\n",
       "     12000,\n",
       "     12500,\n",
       "     13000,\n",
       "     13500,\n",
       "     14000,\n",
       "     14500,\n",
       "     15000,\n",
       "     15500,\n",
       "     16000,\n",
       "     16500,\n",
       "     17000,\n",
       "     17500,\n",
       "     18000,\n",
       "     18500,\n",
       "     19000,\n",
       "     19500,\n",
       "     4999],\n",
       "    'cp_save_folder': '/groups/bishop/bishoplab/projects/probabilistic_model_synthesis/results/real_data/gnlr/same_cond_transfer_analysis/v18/fold_str_base_14_tgt_14/fold_1/subj_11/comb/ip_cp',\n",
       "    'cp_save_str': 'rnd_0_'}]},\n",
       " 'subject_filter': [1, 2, 5, 6, 11]}"
      ]
     },
     "execution_count": 7,
     "metadata": {},
     "output_type": "execute_result"
    }
   ],
   "source": [
    "fit_ps"
   ]
  },
  {
   "cell_type": "markdown",
   "id": "128b8aa1",
   "metadata": {},
   "source": [
    "## View the fitting logs"
   ]
  },
  {
   "cell_type": "code",
   "execution_count": null,
   "id": "ef17611f",
   "metadata": {},
   "outputs": [],
   "source": [
    "for log in fit_rs['logs']:\n",
    "    Fitter.plot_log(log)"
   ]
  },
  {
   "cell_type": "markdown",
   "id": "c965b2c9",
   "metadata": {},
   "source": [
    "## Load segment tables, fold structures and data"
   ]
  },
  {
   "cell_type": "markdown",
   "id": "ac54a104",
   "metadata": {},
   "source": [
    "Load segment tables"
   ]
  },
  {
   "cell_type": "code",
   "execution_count": null,
   "id": "a0ea986a",
   "metadata": {},
   "outputs": [],
   "source": [
    "segment_table_path = pathlib.Path(fit_ps['segment_table_dir']) / fit_ps['segment_table_file']\n",
    "with open(segment_table_path, 'rb') as f:\n",
    "    st_data = pickle.load(f)\n",
    "    segment_tables = st_data['segment_tables']\n",
    "segment_tables = {k: SegmentTable.from_dict(v) for k, v in segment_tables.items()}"
   ]
  },
  {
   "cell_type": "markdown",
   "id": "47ba5e5f",
   "metadata": {},
   "source": [
    "Load fold structures"
   ]
  },
  {
   "cell_type": "code",
   "execution_count": null,
   "id": "c6e4b6d9",
   "metadata": {},
   "outputs": [],
   "source": [
    "fold_str_path = pathlib.Path(fit_ps['fold_str_dir']) / fit_ps['fold_str_file']\n",
    "with open(fold_str_path, 'rb') as f:\n",
    "    fold_groups = pickle.load(f)"
   ]
  },
  {
   "cell_type": "markdown",
   "id": "04a8a432",
   "metadata": {},
   "source": [
    "Load the data"
   ]
  },
  {
   "cell_type": "code",
   "execution_count": null,
   "id": "c1946b92",
   "metadata": {},
   "outputs": [],
   "source": [
    "subject_data, subject_neuron_locs = load_and_preprocess_data(data_folder=fit_ps['data_dir'], \n",
    "                                            subjects=subject_order,\n",
    "                                            normalize_beh_vars=fit_ps['normalize_beh_vars'],\n",
    "                                            neural_gain=fit_ps['neural_gain'], \n",
    "                                            beh_gain=fit_ps['beh_gain'],\n",
    "                                            z_ratio=fit_ps['z_ratio'])\n"
   ]
  },
  {
   "cell_type": "markdown",
   "id": "c1650c33",
   "metadata": {},
   "source": [
    "Form the train, validation and test data "
   ]
  },
  {
   "cell_type": "code",
   "execution_count": null,
   "id": "38c4ec82",
   "metadata": {},
   "outputs": [],
   "source": [
    "data = dict()\n",
    "for s_n in subject_order:\n",
    "    subject_train_slices = segment_tables[s_n].find_all(fold_groups[s_n][fold]['train'])\n",
    "    train_data_n = generate_torch_dataset(dataset=subject_data[s_n], \n",
    "                                          slices=subject_train_slices,\n",
    "                                          ts_keys=['dff', 'behavior'], inc_time_stamps=True)\n",
    "    \n",
    "    train_data_n = (train_data_n.data[0][train_data_n.i_x, :], \n",
    "                    train_data_n.data[1][train_data_n.i_y, :],\n",
    "                    train_data_n.data[2][train_data_n.i_y])\n",
    "\n",
    "    \n",
    "    \n",
    "    subject_test_slices = segment_tables[s_n].find_all(fold_groups[s_n][fold]['test'])\n",
    "    test_data_n = generate_torch_dataset(dataset=subject_data[s_n], \n",
    "                                         slices=subject_test_slices,\n",
    "                                         ts_keys=['dff', 'behavior'], inc_time_stamps=True)\n",
    "    \n",
    "    test_data_n = (test_data_n.data[0][test_data_n.i_x, :], \n",
    "                   test_data_n.data[1][test_data_n.i_y, :],\n",
    "                   test_data_n.data[2][test_data_n.i_y])\n",
    "    \n",
    "    subject_validation_slices = segment_tables[s_n].find_all(fold_groups[s_n][fold]['validation'])\n",
    "    validation_data_n = generate_torch_dataset(dataset=subject_data[s_n], \n",
    "                                               slices=subject_validation_slices,\n",
    "                                               ts_keys=['dff', 'behavior'], \n",
    "                                               inc_time_stamps=True)\n",
    "    \n",
    "    validation_data_n = (validation_data_n.data[0][validation_data_n.i_x, :], \n",
    "                         validation_data_n.data[1][validation_data_n.i_y, :],\n",
    "                         validation_data_n.data[2][validation_data_n.i_y])\n",
    "    \n",
    "    data[s_n] = {'train': train_data_n, \n",
    "                 'test': test_data_n, \n",
    "                 'validation': validation_data_n}"
   ]
  },
  {
   "cell_type": "markdown",
   "id": "0e200641",
   "metadata": {},
   "source": [
    "## Perform retrospective early stopping to pick the best model"
   ]
  },
  {
   "cell_type": "markdown",
   "id": "eb86b135",
   "metadata": {},
   "source": [
    "Load checkpoints"
   ]
  },
  {
   "cell_type": "code",
   "execution_count": null,
   "id": "6ee6d2ad",
   "metadata": {},
   "outputs": [],
   "source": [
    "cp_dir = pathlib.Path(fit_ps[ps['mdl_type'] + '_cp_dir'])\n",
    "cp_files = glob.glob(str(cp_dir / 'cp_*.pt'))\n",
    "n_cps = len(cp_files)\n",
    "cp_rs = [None]*n_cps\n",
    "for cp_i, cp_file in enumerate(cp_files):\n",
    "    cp_rs[cp_i] = torch.load(cp_file)\n",
    "    print('Done loading check point ' + str(cp_i + 1) + ' of ' + str(n_cps) + '.')"
   ]
  },
  {
   "cell_type": "markdown",
   "id": "df0e2bcc",
   "metadata": {},
   "source": [
    "Evaluate performance at each check point"
   ]
  },
  {
   "cell_type": "code",
   "execution_count": null,
   "id": "e4d4266d",
   "metadata": {},
   "outputs": [],
   "source": [
    "validation_subject_inds = [np.argwhere(np.asarray(subject_order) == s_n)[0][0] \n",
    "                               for s_n in ps['validation_subjects']]\n",
    "n_validation_stopping_subjects = len(validation_subject_inds)"
   ]
  },
  {
   "cell_type": "code",
   "execution_count": null,
   "id": "adffd6bf",
   "metadata": {},
   "outputs": [],
   "source": [
    "cp_performance = np.zeros([n_cps, n_validation_stopping_subjects])\n",
    "for cp_i, cp in enumerate(cp_rs):\n",
    "    for i, (s_i, s_n) in enumerate(zip(validation_subject_inds, ps['validation_subjects'])):\n",
    "        x = data[s_n]['validation'][0]\n",
    "        y = data[s_n]['validation'][1].numpy()\n",
    "        coll = VICollection.from_checkpoint(cp['vi_collections'][s_i], props=subject_neuron_locs[s_n])\n",
    "        y_hat = predict(coll, x).detach().numpy()\n",
    "        cp_performance[cp_i, i]  = np.mean(r_squared(truth=y, pred=y_hat))"
   ]
  },
  {
   "cell_type": "markdown",
   "id": "a52656ef",
   "metadata": {},
   "source": [
    "Sort checkpoints by epoch"
   ]
  },
  {
   "cell_type": "code",
   "execution_count": null,
   "id": "88da7ab9",
   "metadata": {},
   "outputs": [],
   "source": [
    "cp_epochs = np.asarray([cp['total_epoch'] for cp in cp_rs])\n",
    "cp_sort_order = np.argsort(cp_epochs)\n",
    "cp_epochs = cp_epochs[cp_sort_order]\n",
    "cp_rs = [cp_rs[i] for i in cp_sort_order]\n",
    "cp_performance = cp_performance[cp_sort_order]"
   ]
  },
  {
   "cell_type": "markdown",
   "id": "2a3fd908",
   "metadata": {},
   "source": [
    "View performance across check points"
   ]
  },
  {
   "cell_type": "code",
   "execution_count": null,
   "id": "75a6529c",
   "metadata": {},
   "outputs": [],
   "source": [
    "mean_cp_performance = np.mean(cp_performance, axis=1)\n",
    "\n",
    "plt.figure()\n",
    "plt.plot(cp_epochs, cp_performance)\n",
    "plt.plot(cp_epochs, mean_cp_performance, 'k--')"
   ]
  },
  {
   "cell_type": "markdown",
   "id": "bbed7c3a",
   "metadata": {},
   "source": [
    "Pick the best check point here"
   ]
  },
  {
   "cell_type": "code",
   "execution_count": null,
   "id": "50e242ce",
   "metadata": {},
   "outputs": [],
   "source": [
    "if ps['use_early_stopping']:\n",
    "    best_cp_ind = np.argmax(mean_cp_performance)\n",
    "    best_cp = cp_rs[best_cp_ind]\n",
    "    \n",
    "    best_vi_collections = [VICollection.from_checkpoint(best_cp['vi_collections'][s_i], \n",
    "                                                        props=subject_neuron_locs[s_n])\n",
    "                           for s_i, s_n in enumerate(subject_order)]\n",
    "    \n",
    "    best_priors = PriorCollection.from_checkpoint(best_cp['priors'])\n",
    "    \n",
    "    print('Best CP epoch: ' + str(cp_epochs[best_cp_ind]))\n",
    "else:\n",
    "    best_vi_collections = fit_rs['vi_collections']\n",
    "    best_priors = fit_rs['priors']"
   ]
  },
  {
   "cell_type": "markdown",
   "id": "d493bc11",
   "metadata": {},
   "source": [
    "## View predictions for the best performing models"
   ]
  },
  {
   "cell_type": "code",
   "execution_count": null,
   "id": "046efd78",
   "metadata": {},
   "outputs": [],
   "source": [
    "ex_s_n = ps['validation_subjects'][0]\n",
    "vis_data = 'validation'"
   ]
  },
  {
   "cell_type": "code",
   "execution_count": null,
   "id": "ee7134c3",
   "metadata": {},
   "outputs": [],
   "source": [
    "ex_s_i = np.argwhere(np.asarray(subject_order) == ex_s_n)[0][0]"
   ]
  },
  {
   "cell_type": "code",
   "execution_count": null,
   "id": "57b50226",
   "metadata": {},
   "outputs": [],
   "source": [
    "t = data[subject_order[ex_s_i]][vis_data][2].numpy()\n",
    "x = data[subject_order[ex_s_i]][vis_data][0]\n",
    "y = data[subject_order[ex_s_i]][vis_data][1]\n",
    "y_hat = predict(best_vi_collections[ex_s_i], x).detach()"
   ]
  },
  {
   "cell_type": "code",
   "execution_count": null,
   "id": "8f9bcb22",
   "metadata": {},
   "outputs": [],
   "source": [
    "r_squared(y.numpy(), y_hat.numpy())"
   ]
  },
  {
   "cell_type": "code",
   "execution_count": null,
   "id": "7b5dfbda",
   "metadata": {},
   "outputs": [],
   "source": [
    "plt.figure()\n",
    "\n",
    "plt.subplot(2,1,1)\n",
    "plt.plot(t, y[:,0])\n",
    "plt.plot(t, y_hat[:,0])\n",
    "plt.legend(['truth', 'pred'])\n",
    "\n",
    "plt.subplot(2,1,2)\n",
    "plt.plot(t, y[:,1])\n",
    "plt.plot(t, y_hat[:,1])\n",
    "plt.legend(['truth', 'pred'])\n"
   ]
  },
  {
   "cell_type": "markdown",
   "id": "27a9a4c5",
   "metadata": {},
   "source": [
    "## Debug code goes here"
   ]
  },
  {
   "cell_type": "code",
   "execution_count": null,
   "id": "74d9c7f0",
   "metadata": {},
   "outputs": [],
   "source": [
    "for s_i, s_n in enumerate(subject_order):\n",
    "    print('Subject: ' + str(s_n))\n",
    "    \n",
    "    s_in_mn = best_vi_collections[s_i].posteriors.s_in_post(torch.zeros(1)).detach().numpy().squeeze()\n",
    "    s_in_std = best_vi_collections[s_i].posteriors.s_in_post.dists[0].std_f(torch.zeros(1)).detach().numpy().squeeze()\n",
    "    print('S_in Mean: ' + str(s_in_mn))\n",
    "    print('S_in Std: ' + str(s_in_std))\n",
    "    \n",
    "    b_in_mn = best_vi_collections[s_i].posteriors.b_in_post(torch.zeros(1)).detach().numpy().squeeze()\n",
    "    b_in_std = best_vi_collections[s_i].posteriors.b_in_post.dists[0].std_f(torch.zeros(1)).detach().numpy().squeeze()\n",
    "    print('B_in Mean: ' + str(b_in_mn))\n",
    "    print('B_in Std: ' + str(b_in_std))\n",
    "    \n",
    "    s_out_mn = best_vi_collections[s_i].posteriors.s_out_post(torch.zeros(1)).detach().numpy().squeeze()\n",
    "    s_out_std = best_vi_collections[s_i].posteriors.s_out_post.dists[0].std_f(torch.zeros(1)).detach().numpy().squeeze()\n",
    "    print('S_out Mean: ' + str(s_out_mn))\n",
    "    print('S_out Std: ' + str(s_out_std))\n",
    "    \n",
    "    \n",
    "    \n",
    "    b_out_mn = best_vi_collections[s_i].posteriors.b_out_post(torch.zeros(1)).detach().numpy().squeeze()\n",
    "    b_out_std = best_vi_collections[s_i].posteriors.b_out_post.dists[0].std_f(torch.zeros(1)).detach().numpy().squeeze()\n",
    "    print('B_out Mean: ' + str(b_out_mn))\n",
    "    print('B_out Std: ' + str(b_out_std))"
   ]
  },
  {
   "cell_type": "code",
   "execution_count": null,
   "id": "84ef92c9",
   "metadata": {},
   "outputs": [],
   "source": [
    "best_priors.s_out_prior.dists[0].mn_f(torch.zeros(1))"
   ]
  },
  {
   "cell_type": "code",
   "execution_count": null,
   "id": "bcc13c08",
   "metadata": {},
   "outputs": [],
   "source": []
  }
 ],
 "metadata": {
  "kernelspec": {
   "display_name": "Python 3",
   "language": "python",
   "name": "python3"
  },
  "language_info": {
   "codemirror_mode": {
    "name": "ipython",
    "version": 3
   },
   "file_extension": ".py",
   "mimetype": "text/x-python",
   "name": "python",
   "nbconvert_exporter": "python",
   "pygments_lexer": "ipython3",
   "version": "3.8.8"
  }
 },
 "nbformat": 4,
 "nbformat_minor": 5
}
