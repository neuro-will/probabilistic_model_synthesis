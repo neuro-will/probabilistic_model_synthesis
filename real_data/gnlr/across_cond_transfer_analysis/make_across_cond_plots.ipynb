{
 "cells": [
  {
   "cell_type": "markdown",
   "id": "593e8774",
   "metadata": {},
   "source": [
    "A notebook to generate plots from the post processed results of an across condition analysis"
   ]
  },
  {
   "cell_type": "code",
   "execution_count": 1,
   "id": "e4b4b189",
   "metadata": {},
   "outputs": [],
   "source": [
    "%load_ext autoreload\n",
    "%autoreload 2"
   ]
  },
  {
   "cell_type": "code",
   "execution_count": 2,
   "id": "b8a7ed7b",
   "metadata": {},
   "outputs": [],
   "source": [
    "from pathlib import Path\n",
    "import pickle\n",
    "import re\n",
    "\n",
    "import numpy as np\n",
    "\n",
    "from ahrens_wbo.annotations import label_subperiods\n",
    "from ahrens_wbo.data_processing import load_and_preprocess_data\n",
    "from janelia_core.stats.regression import r_squared\n",
    "from probabilistic_model_synthesis.gnlr_ahrens_tools import find_period_time_points"
   ]
  },
  {
   "cell_type": "markdown",
   "id": "949c34b6",
   "metadata": {},
   "source": [
    "## Parameters go here"
   ]
  },
  {
   "cell_type": "code",
   "execution_count": 3,
   "id": "4a5bfc68",
   "metadata": {},
   "outputs": [],
   "source": [
    "# Top-level directory holding the results\n",
    "base_dir = r'/groups/bishop/bishoplab/projects/probabilistic_model_synthesis/results/real_data/gnlr/across_cond_transfer_analysis/v6'\n",
    "\n",
    "# Name used for all files containing post-processed results\n",
    "pp_file = r'pp_test_results.pkl'\n",
    "\n",
    "# Specify the type of models we assess performance for - can be 'sp' or 'ip'\n",
    "mdl_type = 'ip'\n",
    "\n",
    "# Specify conditions we test on \n",
    "test_conds = ['omr_forward', 'omr_right', 'omr_left']\n",
    "\n"
   ]
  },
  {
   "cell_type": "markdown",
   "id": "67339838",
   "metadata": {},
   "source": [
    "## Define helper functions"
   ]
  },
  {
   "cell_type": "code",
   "execution_count": 4,
   "id": "466bbf43",
   "metadata": {},
   "outputs": [],
   "source": [
    "def rmse(x0, x1): \n",
    "    return np.sqrt(np.mean((x0 - x1)**2, axis=1))"
   ]
  },
  {
   "cell_type": "markdown",
   "id": "ca139d32",
   "metadata": {},
   "source": [
    "## Load all results"
   ]
  },
  {
   "cell_type": "code",
   "execution_count": 5,
   "id": "703b92e4",
   "metadata": {},
   "outputs": [],
   "source": [
    "train_conds = [cond.name for cond in Path(base_dir).iterdir() if cond.is_dir()]\n",
    "test_subjs = np.sort([int(re.search('.*_(\\d+)', subj.name)[1]) \n",
    "                      for subj in (Path(base_dir) / train_conds[0]).iterdir()])"
   ]
  },
  {
   "cell_type": "code",
   "execution_count": 6,
   "id": "74c4e6ab",
   "metadata": {},
   "outputs": [],
   "source": [
    "FIT_TYPES = ['single_cond', 'multi_cond']"
   ]
  },
  {
   "cell_type": "code",
   "execution_count": 7,
   "id": "805d8214",
   "metadata": {},
   "outputs": [
    {
     "name": "stdout",
     "output_type": "stream",
     "text": [
      "Results for subject 8, train condition: omr_f_ns, fit type: single_cond ***\n",
      "Best CP Ind: 2\n",
      "Results for subject 8, train condition: omr_f_ns, fit type: multi_cond ***\n",
      "Best CP Ind: 1\n",
      "Results for subject 9, train condition: omr_f_ns, fit type: single_cond ***\n",
      "Best CP Ind: 28\n",
      "Results for subject 9, train condition: omr_f_ns, fit type: multi_cond ***\n",
      "Best CP Ind: 12\n",
      "Results for subject 11, train condition: omr_f_ns, fit type: single_cond ***\n",
      "Best CP Ind: 0\n",
      "Results for subject 11, train condition: omr_f_ns, fit type: multi_cond ***\n",
      "Best CP Ind: 12\n",
      "Results for subject 8, train condition: omr_r_ns, fit type: single_cond ***\n",
      "Best CP Ind: 1\n",
      "Results for subject 8, train condition: omr_r_ns, fit type: multi_cond ***\n",
      "Best CP Ind: 8\n",
      "Results for subject 9, train condition: omr_r_ns, fit type: single_cond ***\n",
      "Best CP Ind: 8\n",
      "Results for subject 9, train condition: omr_r_ns, fit type: multi_cond ***\n",
      "Best CP Ind: 19\n",
      "Results for subject 11, train condition: omr_r_ns, fit type: single_cond ***\n",
      "Best CP Ind: 31\n",
      "Results for subject 11, train condition: omr_r_ns, fit type: multi_cond ***\n",
      "Best CP Ind: 21\n",
      "Results for subject 8, train condition: omr_l_ns, fit type: single_cond ***\n",
      "Best CP Ind: 12\n",
      "Results for subject 8, train condition: omr_l_ns, fit type: multi_cond ***\n",
      "Best CP Ind: 6\n",
      "Results for subject 9, train condition: omr_l_ns, fit type: single_cond ***\n",
      "Best CP Ind: 0\n",
      "Results for subject 9, train condition: omr_l_ns, fit type: multi_cond ***\n",
      "Best CP Ind: 4\n",
      "Results for subject 11, train condition: omr_l_ns, fit type: single_cond ***\n",
      "Best CP Ind: 36\n",
      "Results for subject 11, train condition: omr_l_ns, fit type: multi_cond ***\n",
      "Best CP Ind: 34\n"
     ]
    }
   ],
   "source": [
    "rs = dict()\n",
    "for cond in train_conds:\n",
    "    rs[cond] = dict()\n",
    "    for subj in test_subjs:\n",
    "        rs[cond][subj] = dict()\n",
    "        for fit_type in FIT_TYPES:\n",
    "            fit_type_dir = Path(base_dir) / cond / ('subj_' + str(subj)) / fit_type\n",
    "            fit_type_file = fit_type_dir / pp_file\n",
    "            \n",
    "            with open(fit_type_file, 'rb') as f:\n",
    "                rs[cond][subj][fit_type] = pickle.load(f)\n",
    "            \n",
    "            # Print some diagonstic information \n",
    "            print('Results for subject ' + str(subj) + ', train condition: ' + cond + \n",
    "                  ', fit type: ' + fit_type + ' ***')\n",
    "            print('Best CP Ind: ' + str(rs[cond][subj][fit_type][mdl_type]['early_stopping']['best_cp_ind']))\n",
    "            \n",
    "      "
   ]
  },
  {
   "cell_type": "markdown",
   "id": "45175f97",
   "metadata": {},
   "source": [
    "## Load raw data - we need this to label the different periods of test data "
   ]
  },
  {
   "cell_type": "code",
   "execution_count": 8,
   "id": "48aacf8f",
   "metadata": {},
   "outputs": [
    {
     "name": "stdout",
     "output_type": "stream",
     "text": [
      "Done loading data for subject subject_8.\n",
      "Done loading data for subject subject_9.\n",
      "Done loading data for subject subject_11.\n"
     ]
    }
   ],
   "source": [
    "ex_fit_ps = rs[train_conds[0]][test_subjs[0]][FIT_TYPES[0]]['fit_ps']\n",
    "subject_order = rs[train_conds[0]][test_subjs[0]][FIT_TYPES[0]]['subject_order']\n",
    "\n",
    "subject_data, subject_neuron_locs = load_and_preprocess_data(data_folder=ex_fit_ps['data_dir'], \n",
    "                                                             subjects=subject_order,\n",
    "                                                             neural_gain=ex_fit_ps['neural_gain'], \n",
    "                                                             z_ratio=ex_fit_ps['z_ratio'])"
   ]
  },
  {
   "cell_type": "markdown",
   "id": "d3fd8a9a",
   "metadata": {},
   "source": [
    "## Get labels for all moments in time"
   ]
  },
  {
   "cell_type": "code",
   "execution_count": 9,
   "id": "578662e1",
   "metadata": {},
   "outputs": [],
   "source": [
    "labels = {s_n: {'ts': subject_data[s_n].ts_data['stim']['ts'],\n",
    "                'labels': label_subperiods(subject_data[s_n].ts_data['stim']['vls'][:])} for s_n in subject_order}"
   ]
  },
  {
   "cell_type": "markdown",
   "id": "9af9e10b",
   "metadata": {},
   "source": [
    "## Now assess test performance "
   ]
  },
  {
   "cell_type": "code",
   "execution_count": 10,
   "id": "74f9260d",
   "metadata": {},
   "outputs": [],
   "source": [
    "metric = r_squared"
   ]
  },
  {
   "cell_type": "code",
   "execution_count": 11,
   "id": "2186a473",
   "metadata": {},
   "outputs": [],
   "source": [
    "n_subjs = len(test_subjs)\n",
    "n_train_conds = len(train_conds)\n",
    "n_test_conds = len(test_conds)"
   ]
  },
  {
   "cell_type": "code",
   "execution_count": 12,
   "id": "e94a3863",
   "metadata": {},
   "outputs": [],
   "source": [
    "single_perf = np.zeros([n_subjs, n_train_conds, n_test_conds])\n",
    "multi_perf = np.zeros([n_subjs, n_train_conds, n_test_conds])\n",
    "single_perf[:] = np.nan\n",
    "multi_perf[:] = np.nan\n",
    "\n",
    "perf_arrays = [single_perf, multi_perf]\n",
    "\n",
    "for s_i, subj in enumerate(test_subjs):\n",
    "    for tr_i, train_cond in enumerate(train_conds):\n",
    "        for ft_i, fit_type in enumerate(FIT_TYPES):\n",
    "            for ts_i, test_cond in enumerate(test_conds):\n",
    "        \n",
    "                y = rs[train_cond][subj][fit_type][mdl_type]['preds'][subj]['test']['y']\n",
    "                y_hat = rs[train_cond][subj][fit_type][mdl_type]['preds'][subj]['test']['y_hat']\n",
    "                t = rs[train_cond][subj][fit_type][mdl_type]['preds'][subj]['test']['t']\n",
    "                test_cond_inds = find_period_time_points(cand_ts=t, period=test_cond, \n",
    "                                                         shock=False, labels=labels[subj])\n",
    "                \n",
    "                if len(test_cond_inds) > 0: \n",
    "                    perf_arrays[ft_i][s_i][tr_i][ts_i] = np.mean(metric(y[test_cond_inds,:], y_hat[test_cond_inds,:]))"
   ]
  },
  {
   "cell_type": "markdown",
   "id": "27aefc64",
   "metadata": {},
   "source": [
    "## Now look at raw performance values "
   ]
  },
  {
   "cell_type": "code",
   "execution_count": 13,
   "id": "11c2018c",
   "metadata": {},
   "outputs": [
    {
     "name": "stdout",
     "output_type": "stream",
     "text": [
      "**** Test Condition: omr_forward ****\n",
      "Subject: 8\n",
      "Single Performance, Multi Performance, Delta, Training Condition\n",
      "-0.6557765007019043, -1.0993976593017578, 0.4436211585998535, , trained on: omr_r_ns\n",
      "0.2537192106246948, 0.29001662135124207, -0.03629741072654724, , trained on: omr_l_ns\n",
      "Subject: 9\n",
      "Single Performance, Multi Performance, Delta, Training Condition\n",
      "-2.9953720569610596, -1.3695883750915527, -1.6257836818695068, , trained on: omr_r_ns\n",
      "-0.6418294906616211, -1.2445290088653564, 0.6026995182037354, , trained on: omr_l_ns\n",
      "Subject: 11\n",
      "Single Performance, Multi Performance, Delta, Training Condition\n",
      "0.10378637909889221, 0.024032682180404663, 0.07975369691848755, , trained on: omr_r_ns\n",
      "0.179833322763443, 0.21798691153526306, -0.03815358877182007, , trained on: omr_l_ns\n",
      "**** Test Condition: omr_right ****\n",
      "Subject: 8\n",
      "Single Performance, Multi Performance, Delta, Training Condition\n",
      "-3.684431552886963, -9.254469871520996, 5.570038318634033, , trained on: omr_f_ns\n",
      "-2.078763008117676, -1.0511512756347656, -1.0276117324829102, , trained on: omr_l_ns\n",
      "Subject: 9\n",
      "Single Performance, Multi Performance, Delta, Training Condition\n",
      "-0.9710404872894287, 0.22477996349334717, -1.1958204507827759, , trained on: omr_f_ns\n",
      "-0.015971481800079346, -0.28674694895744324, 0.2707754671573639, , trained on: omr_l_ns\n",
      "Subject: 11\n",
      "Single Performance, Multi Performance, Delta, Training Condition\n",
      "-0.5065944194793701, -0.7071712017059326, 0.2005767822265625, , trained on: omr_f_ns\n",
      "-3.329986095428467, 0.22323569655418396, -3.5532217919826508, , trained on: omr_l_ns\n",
      "**** Test Condition: omr_left ****\n",
      "Subject: 8\n",
      "Single Performance, Multi Performance, Delta, Training Condition\n",
      "-0.016166776418685913, 0.18275633454322815, -0.19892311096191406, , trained on: omr_f_ns\n",
      "-4.649949073791504, -1.1432836055755615, -3.5066654682159424, , trained on: omr_r_ns\n",
      "Subject: 9\n",
      "Single Performance, Multi Performance, Delta, Training Condition\n",
      "0.24208906292915344, -0.16653668880462646, 0.4086257517337799, , trained on: omr_f_ns\n",
      "-0.08564162254333496, -4.62420654296875, 4.538564920425415, , trained on: omr_r_ns\n",
      "Subject: 11\n",
      "Single Performance, Multi Performance, Delta, Training Condition\n",
      "-2.22550368309021, -2.585967540740967, 0.36046385765075684, , trained on: omr_f_ns\n",
      "-0.01696246862411499, -1.2174723148345947, 1.2005098462104797, , trained on: omr_r_ns\n"
     ]
    }
   ],
   "source": [
    "for ts_i, test_cond in enumerate(test_conds):\n",
    "    print('**** Test Condition: ' + test_cond + ' ****')\n",
    "    for s_i, subj in enumerate(test_subjs):\n",
    "        print('Subject: ' + str(subj))\n",
    "        print('Single Performance, Multi Performance, Delta, Training Condition')\n",
    "        for tr_i, train_cond in enumerate(train_conds):\n",
    "            if not np.isnan(single_perf[s_i][tr_i][ts_i]):\n",
    "                print(str(single_perf[s_i][tr_i][ts_i]) + ', ' + str(multi_perf[s_i][tr_i][ts_i]) + ', ' + \n",
    "                      str(single_perf[s_i][tr_i][ts_i] - multi_perf[s_i][tr_i][ts_i]) + ', '\n",
    "                      ', trained on: ' + train_cond)"
   ]
  },
  {
   "cell_type": "markdown",
   "id": "0e96be95",
   "metadata": {},
   "source": [
    "## Debug code goes here "
   ]
  },
  {
   "cell_type": "code",
   "execution_count": 14,
   "id": "4d81fec3",
   "metadata": {},
   "outputs": [
    {
     "data": {
      "text/plain": [
       "{'note': 'Initial testing. p=20, less hypercubes',\n",
       " 'param_filename': 'transfer_params.pkl',\n",
       " 'param_save_dir': '/groups/bishop/bishoplab/projects/probabilistic_model_synthesis/results/real_data/gnlr/across_cond_transfer_analysis/v6',\n",
       " 'results_dir': '/groups/bishop/bishoplab/projects/probabilistic_model_synthesis/results/real_data/gnlr/across_cond_transfer_analysis/v6/omr_f_ns/subj_8/single_cond',\n",
       " 'save_file': 'test_results.pt',\n",
       " 'sp_cp_dir': '/groups/bishop/bishoplab/projects/probabilistic_model_synthesis/results/real_data/gnlr/across_cond_transfer_analysis/v6/omr_f_ns/subj_8/single_cond/sp_cp',\n",
       " 'ip_cp_dir': '/groups/bishop/bishoplab/projects/probabilistic_model_synthesis/results/real_data/gnlr/across_cond_transfer_analysis/v6/omr_f_ns/subj_8/single_cond/ip_cp',\n",
       " 'data_dir': '/groups/bishop/bishoplab/projects/ahrens_wbo/data',\n",
       " 'segment_table_dir': '/groups/bishop/bishoplab/projects/probabilistic_model_synthesis/results/real_data',\n",
       " 'segment_table_file': 'omr_l_r_f_ns_across_cond_segments_8_9_10_11.pkl',\n",
       " 'fold_str_dir': '/groups/bishop/bishoplab/projects/probabilistic_model_synthesis/results/real_data',\n",
       " 'fold_str_file': 'ac_an_tgt_8_single_cond_folds.pkl',\n",
       " 'fold': 'omr_f_ns',\n",
       " 'keep_beh_vars': [3, 4],\n",
       " 'normalize_beh_vars': True,\n",
       " 'neural_gain': 10000,\n",
       " 'beh_gain': 100,\n",
       " 'z_ratio': 2.5,\n",
       " 'roi_dim_ranges': array([[   0., 1407.],\n",
       "        [   0.,  622.],\n",
       "        [   0.,  343.]]),\n",
       " 'mdl_opts': {'p': 20,\n",
       "  'w_prior_opts': {'mn_hc_params': {'n_divisions_per_dim': [70, 25, 10],\n",
       "    'dim_ranges': array([[   0., 1407.],\n",
       "           [   0.,  622.],\n",
       "           [   0.,  343.]]),\n",
       "    'n_div_per_hc_side_per_dim': [1, 1, 1]},\n",
       "   'std_hc_params': {'n_divisions_per_dim': [70, 25, 10],\n",
       "    'dim_ranges': array([[   0., 1407.],\n",
       "           [   0.,  622.],\n",
       "           [   0.,  343.]]),\n",
       "    'n_div_per_hc_side_per_dim': [1, 1, 1]},\n",
       "   'min_std': 0.001,\n",
       "   'mn_init': 0.0,\n",
       "   'std_init': 0.01},\n",
       "  's_in_prior_opts': {'mn_mn': 0.001,\n",
       "   'mn_std': 1e-08,\n",
       "   'std_lb': 1e-08,\n",
       "   'std_ub': 1e-05,\n",
       "   'std_iv': 1e-06},\n",
       "  'b_in_prior_opts': {'mn_mn': 0.0,\n",
       "   'mn_std': 1e-08,\n",
       "   'std_lb': 1e-08,\n",
       "   'std_ub': 1e-05,\n",
       "   'std_iv': 1e-06},\n",
       "  's_out_prior_opts': {'mn_mn': 1.0,\n",
       "   'mn_std': 1e-08,\n",
       "   'std_lb': 1e-06,\n",
       "   'std_ub': 1.0,\n",
       "   'std_iv': 0.0001},\n",
       "  'b_out_prior_opts': {'mn_mn': 0.0,\n",
       "   'mn_std': 1e-08,\n",
       "   'std_lb': 1e-06,\n",
       "   'std_ub': 1.0,\n",
       "   'std_iv': 0.0001},\n",
       "  'psi_prior_opts': {'conc_lb': 1.0,\n",
       "   'conc_ub': 1000.0,\n",
       "   'conc_iv': 10.0,\n",
       "   'rate_lb': 0.001,\n",
       "   'rate_ub': 1000.0,\n",
       "   'rate_iv': 10.0},\n",
       "  's_in_post_opts': {'mn_mn': 0.001,\n",
       "   'mn_std': 1e-08,\n",
       "   'std_lb': 1e-08,\n",
       "   'std_ub': 1e-05,\n",
       "   'std_iv': 1e-06},\n",
       "  'b_in_post_opts': {'mn_mn': 0.0,\n",
       "   'mn_std': 1e-08,\n",
       "   'std_lb': 1e-08,\n",
       "   'std_ub': 1e-05,\n",
       "   'std_iv': 1e-06},\n",
       "  's_out_post_opts': {'mn_mn': 1.0,\n",
       "   'mn_std': 1e-08,\n",
       "   'std_lb': 1e-06,\n",
       "   'std_ub': 1.0,\n",
       "   'std_iv': 0.0001},\n",
       "  'b_out_post_opts': {'mn_mn': 0.0,\n",
       "   'mn_std': 1e-08,\n",
       "   'std_lb': 1e-06,\n",
       "   'std_ub': 1.0,\n",
       "   'std_iv': 0.0001},\n",
       "  'psi_post_opts': {'conc_lb': 1.0,\n",
       "   'conc_ub': 1000.0,\n",
       "   'conc_iv': 10.0,\n",
       "   'rate_lb': 0.001,\n",
       "   'rate_ub': 1000.0,\n",
       "   'rate_iv': 10.0},\n",
       "  'dense_net_opts': {'n_layers': 5, 'growth_rate': 5, 'bias': True},\n",
       "  'sp_fit_opts': [{'n_epochs': 1000,\n",
       "    'n_batches': 2,\n",
       "    'init_lr': 0.0001,\n",
       "    'milestones': [500],\n",
       "    'gamma': 0.1,\n",
       "    'update_int': 100,\n",
       "    'cp_epochs': [0, 500, 999],\n",
       "    'cp_save_folder': '/groups/bishop/bishoplab/projects/probabilistic_model_synthesis/results/real_data/gnlr/across_cond_transfer_analysis/v6/omr_f_ns/subj_8/single_cond/sp_cp',\n",
       "    'cp_save_str': 'rnd_0_'}],\n",
       "  'ip_fit_opts': [{'n_epochs': 20000,\n",
       "    'n_batches': 2,\n",
       "    'init_lr': 1e-05,\n",
       "    'milestones': [10000],\n",
       "    'gamma': 0.1,\n",
       "    'update_int': 100,\n",
       "    'cp_epochs': [0,\n",
       "     500,\n",
       "     1000,\n",
       "     1500,\n",
       "     2000,\n",
       "     2500,\n",
       "     3000,\n",
       "     3500,\n",
       "     4000,\n",
       "     4500,\n",
       "     5000,\n",
       "     5500,\n",
       "     6000,\n",
       "     6500,\n",
       "     7000,\n",
       "     7500,\n",
       "     8000,\n",
       "     8500,\n",
       "     9000,\n",
       "     9500,\n",
       "     10000,\n",
       "     10500,\n",
       "     11000,\n",
       "     11500,\n",
       "     12000,\n",
       "     12500,\n",
       "     13000,\n",
       "     13500,\n",
       "     14000,\n",
       "     14500,\n",
       "     15000,\n",
       "     15500,\n",
       "     16000,\n",
       "     16500,\n",
       "     17000,\n",
       "     17500,\n",
       "     18000,\n",
       "     18500,\n",
       "     19000,\n",
       "     19500,\n",
       "     4999],\n",
       "    'cp_save_folder': '/groups/bishop/bishoplab/projects/probabilistic_model_synthesis/results/real_data/gnlr/across_cond_transfer_analysis/v6/omr_f_ns/subj_8/single_cond/ip_cp',\n",
       "    'cp_save_str': 'rnd_0_'}]},\n",
       " 'subject_filter': None}"
      ]
     },
     "execution_count": 14,
     "metadata": {},
     "output_type": "execute_result"
    }
   ],
   "source": [
    "rs[train_conds[0]][test_subjs[0]]['single_cond']['fit_ps']"
   ]
  },
  {
   "cell_type": "code",
   "execution_count": null,
   "id": "3913017b",
   "metadata": {},
   "outputs": [],
   "source": []
  }
 ],
 "metadata": {
  "kernelspec": {
   "display_name": "Python 3",
   "language": "python",
   "name": "python3"
  },
  "language_info": {
   "codemirror_mode": {
    "name": "ipython",
    "version": 3
   },
   "file_extension": ".py",
   "mimetype": "text/x-python",
   "name": "python",
   "nbconvert_exporter": "python",
   "pygments_lexer": "ipython3",
   "version": "3.8.8"
  }
 },
 "nbformat": 4,
 "nbformat_minor": 5
}
